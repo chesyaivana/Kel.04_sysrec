{
  "nbformat": 4,
  "nbformat_minor": 0,
  "metadata": {
    "colab": {
      "provenance": [],
      "include_colab_link": true
    },
    "kernelspec": {
      "name": "python3",
      "display_name": "Python 3"
    },
    "language_info": {
      "name": "python"
    }
  },
  "cells": [
    {
      "cell_type": "markdown",
      "metadata": {
        "id": "view-in-github",
        "colab_type": "text"
      },
      "source": [
        "<a href=\"https://colab.research.google.com/github/chesyaivana/Kel.04_sysrec/blob/main/Hybrid_Recommender_Systems_(Content_based_dan_Collaborative_Filtering).ipynb\" target=\"_parent\"><img src=\"https://colab.research.google.com/assets/colab-badge.svg\" alt=\"Open In Colab\"/></a>"
      ]
    },
    {
      "cell_type": "markdown",
      "source": [
        "# Hybrid Recommender Systems (Content-based dan Collaborative Filtering)"
      ],
      "metadata": {
        "id": "npufBiAq4__A"
      }
    },
    {
      "cell_type": "markdown",
      "source": [
        "# `Group 4`\n",
        "\n",
        "*   12S21007 - Dame J. Sitinjak\n",
        "*   12S21047 - Elshaday Prida Simamora\n",
        "*   12S21053 - Chesya Ivana J Sitorus"
      ],
      "metadata": {
        "id": "DvoaduEP4_x1"
      }
    },
    {
      "cell_type": "markdown",
      "source": [
        "##### `Memuat dan Menyiapkan Data`"
      ],
      "metadata": {
        "id": "_7VoevER45dw"
      }
    },
    {
      "cell_type": "code",
      "source": [
        "import pandas as pd\n",
        "from sklearn.model_selection import train_test_split\n",
        "\n",
        "# Memuat data\n",
        "file_path = 'Tempat-Wisata-Toba-Preprocessing.csv'\n",
        "data = pd.read_csv(file_path)\n",
        "\n",
        "# Menghapus kolom yang tidak diperlukan\n",
        "data_cleaned = data.drop(columns=['Unnamed: 0.1', 'Unnamed: 0'])\n",
        "\n",
        "# Menyusun ulang data hanya dengan kolom yang relevan\n",
        "data_relevant = data_cleaned[['PlaceID', 'ReviewerId', 'Rating']]\n",
        "\n",
        "# Membagi data menjadi train (70%), validation (15%), dan test (15%)\n",
        "train_data, temp_data = train_test_split(data_relevant, test_size=0.3, random_state=42)\n",
        "val_data, test_data = train_test_split(temp_data, test_size=0.5, random_state=42)\n",
        "\n",
        "# Menampilkan bagian dari data train, validation, dan test untuk memastikan pembagian data\n",
        "train_data.head(), val_data.head(), test_data.head()"
      ],
      "metadata": {
        "colab": {
          "base_uri": "https://localhost:8080/"
        },
        "id": "NR_zSi-3wA7Y",
        "outputId": "54340517-6a5d-440e-be2f-c62c848251a5"
      },
      "execution_count": null,
      "outputs": [
        {
          "output_type": "execute_result",
          "data": {
            "text/plain": [
              "(       PlaceID    ReviewerId  Rating\n",
              " 3341        18  1.153590e+20     5.0\n",
              " 23691       78  1.177080e+20     5.0\n",
              " 21011       68  1.107580e+20     5.0\n",
              " 33851       94  1.076650e+20     5.0\n",
              " 10802       51  1.134090e+20     4.0,\n",
              "        PlaceID    ReviewerId  Rating\n",
              " 19925       68  1.047750e+20     5.0\n",
              " 30548       91  1.092190e+20     5.0\n",
              " 3511        18  1.165270e+20     5.0\n",
              " 20933       68  1.083450e+20     5.0\n",
              " 34549       95  1.007550e+20     4.0,\n",
              "        PlaceID    ReviewerId  Rating\n",
              " 19730       67  1.018030e+20     5.0\n",
              " 12001       52  1.179310e+20     5.0\n",
              " 21944       76  1.104260e+20     5.0\n",
              " 850          6  1.147270e+20     5.0\n",
              " 21562       72  1.056540e+20     5.0)"
            ]
          },
          "metadata": {},
          "execution_count": 12
        }
      ]
    },
    {
      "cell_type": "markdown",
      "source": [
        "##### `Collaborative Filtering menggunakan SVD (Matrix Factorization)`"
      ],
      "metadata": {
        "id": "kXrMqaRc52H9"
      }
    },
    {
      "cell_type": "code",
      "source": [
        "from sklearn.decomposition import TruncatedSVD\n",
        "from sklearn.metrics.pairwise import cosine_similarity\n",
        "\n",
        "# Mengagregasi data jika ada duplikasi\n",
        "train_data_agg = train_data.groupby(['ReviewerId', 'PlaceID'], as_index=False)['Rating'].mean()\n",
        "\n",
        "# Membuat matriks User-Item\n",
        "user_item_matrix = train_data_agg.pivot(index='ReviewerId', columns='PlaceID', values='Rating').fillna(0)\n",
        "\n",
        "# Melakukan Singular Value Decomposition (SVD)\n",
        "svd = TruncatedSVD(n_components=20, random_state=42)\n",
        "svd_matrix = svd.fit_transform(user_item_matrix)\n",
        "\n",
        "# Menghitung kesamaan antar tempat wisata menggunakan cosine similarity\n",
        "cosine_sim = cosine_similarity(svd_matrix)\n",
        "\n",
        "# Menampilkan hasil SVD dan cosine similarity untuk beberapa tempat wisata\n",
        "cosine_sim[:5, :5]  # Menampilkan cosine similarity untuk 5 tempat wisata pertama"
      ],
      "metadata": {
        "colab": {
          "base_uri": "https://localhost:8080/"
        },
        "id": "7yqsgiwkz80y",
        "outputId": "14c71d04-2032-4dbe-e3da-a0987865da2b"
      },
      "execution_count": null,
      "outputs": [
        {
          "output_type": "execute_result",
          "data": {
            "text/plain": [
              "array([[ 1.        , -0.00177691, -0.00439236, -0.0023417 , -0.00255629],\n",
              "       [-0.00177691,  1.        , -0.00527479, -0.00158393, -0.002741  ],\n",
              "       [-0.00439236, -0.00527479,  1.        , -0.00408914, -0.00483928],\n",
              "       [-0.0023417 , -0.00158393, -0.00408914,  1.        , -0.00251675],\n",
              "       [-0.00255629, -0.002741  , -0.00483928, -0.00251675,  1.        ]])"
            ]
          },
          "metadata": {},
          "execution_count": 5
        }
      ]
    },
    {
      "cell_type": "markdown",
      "source": [
        "##### `Collaborative Filtering menggunakan KNN (K-Nearest Neighbors)`"
      ],
      "metadata": {
        "id": "N0MPpp1v591D"
      }
    },
    {
      "cell_type": "code",
      "source": [
        "from sklearn.neighbors import NearestNeighbors\n",
        "\n",
        "# Menggunakan KNN untuk mencari tempat wisata yang mirip berdasarkan rating\n",
        "knn = NearestNeighbors(n_neighbors=6, algorithm='auto', metric='cosine')\n",
        "knn.fit(svd_matrix)\n",
        "\n",
        "# Mengambil 5 tempat wisata yang paling mirip dengan tempat wisata pertama\n",
        "distances, indices = knn.kneighbors(svd_matrix[0:1])\n",
        "\n",
        "# Menampilkan tempat wisata yang paling mirip dengan tempat wisata pertama\n",
        "indices, distances"
      ],
      "metadata": {
        "colab": {
          "base_uri": "https://localhost:8080/"
        },
        "id": "gjy7sAZ90ARq",
        "outputId": "588c7165-a4fb-4ad1-9856-02804af9a385"
      },
      "execution_count": null,
      "outputs": [
        {
          "output_type": "execute_result",
          "data": {
            "text/plain": [
              "(array([[ 4222,  7236, 11482,  4216, 11442, 11390]]),\n",
              " array([[0., 0., 0., 0., 0., 0.]]))"
            ]
          },
          "metadata": {},
          "execution_count": 6
        }
      ]
    },
    {
      "cell_type": "markdown",
      "source": [
        "##### `Collaborative Filtering menggunakan KNN (K-Nearest Neighbors)`"
      ],
      "metadata": {
        "id": "UFuJZpP16C6k"
      }
    },
    {
      "cell_type": "code",
      "source": [
        "# Menggunakan informasi kategori untuk Content-based Filtering\n",
        "import pandas as pd\n",
        "from sklearn.preprocessing import OneHotEncoder # import OneHotEncoder here\n",
        "from sklearn.metrics.pairwise import cosine_similarity\n",
        "\n",
        "category_data = data_cleaned[['PlaceID', 'Category']].drop_duplicates()\n",
        "\n",
        "# Impute or remove NaN values from 'Category' before one-hot encoding\n",
        "# Option 1: Remove rows with NaN values in 'Category'\n",
        "category_data = category_data.dropna(subset=['Category'])\n",
        "\n",
        "# Option 2: Impute NaN values with a placeholder like 'Unknown'\n",
        "# category_data['Category'] = category_data['Category'].fillna('Unknown')\n",
        "\n",
        "# One-hot encoding for categories\n",
        "encoder = OneHotEncoder(sparse_output=False, handle_unknown='ignore') # handle_unknown='ignore' to avoid errors with unseen categories during prediction\n",
        "encoded_categories = encoder.fit_transform(category_data[['Category']])\n",
        "encoded_df = pd.DataFrame(encoded_categories, columns=encoder.get_feature_names_out(['Category']))\n",
        "category_matrix = pd.concat([category_data[['PlaceID']], encoded_df], axis=1).set_index('PlaceID')\n",
        "\n",
        "# Fill NaN values in the category_matrix with 0\n",
        "category_matrix = category_matrix.fillna(0) # This line is added to fill NaN with 0\n",
        "\n",
        "# Menghitung kesamaan antar tempat wisata menggunakan cosine similarity berdasarkan kategori\n",
        "cosine_sim_category = cosine_similarity(category_matrix)\n",
        "\n",
        "# Menampilkan kesamaan antar tempat wisata berdasarkan kategori\n",
        "cosine_sim_category[:5, :5]  # Menampilkan 5 tempat wisata pertama"
      ],
      "metadata": {
        "colab": {
          "base_uri": "https://localhost:8080/"
        },
        "id": "9mV3YZdU0Dp7",
        "outputId": "53d7734e-33af-4694-cb0f-2b4ad7977969"
      },
      "execution_count": null,
      "outputs": [
        {
          "output_type": "execute_result",
          "data": {
            "text/plain": [
              "array([[1., 0., 0., 0., 0.],\n",
              "       [0., 0., 0., 0., 0.],\n",
              "       [0., 0., 0., 0., 0.],\n",
              "       [0., 0., 0., 0., 0.],\n",
              "       [0., 0., 0., 0., 0.]])"
            ]
          },
          "metadata": {},
          "execution_count": 14
        }
      ]
    },
    {
      "cell_type": "markdown",
      "source": [
        "##### `Menggabungkan Hasil Collaborative Filtering dan Content-based Filtering`"
      ],
      "metadata": {
        "id": "XDlhFDkh6IeR"
      }
    },
    {
      "cell_type": "code",
      "source": [
        "# Menggabungkan kesamaan antar tempat wisata dari Collaborative Filtering dan Content-based Filtering\n",
        "# Kita bisa menggunakan bobot tertentu, misalnya bobot 0.5 untuk keduanya\n",
        "\n",
        "# Get common PlaceIDs\n",
        "common_place_ids = category_matrix.index.intersection(user_item_matrix.columns)\n",
        "\n",
        "# Get the indices of common PlaceIDs in user_item_matrix columns\n",
        "common_place_indices = user_item_matrix.columns.get_indexer(common_place_ids)\n",
        "\n",
        "# Filter cosine_sim using common_place_indices\n",
        "cosine_sim_filtered = cosine_sim[common_place_indices][:, common_place_indices]\n",
        "\n",
        "# Before getting the indexer, ensure category_matrix index is unique\n",
        "category_matrix = category_matrix[~category_matrix.index.duplicated(keep='first')]\n",
        "\n",
        "# Get the indices of common PlaceIDs in category_matrix index\n",
        "common_place_indices_category = category_matrix.index.get_indexer(common_place_ids)\n",
        "\n",
        "# Filter cosine_sim_category using common_place_indices_category\n",
        "cosine_sim_category_filtered = cosine_sim_category[common_place_indices_category][:, common_place_indices_category]\n",
        "\n",
        "# Now you can combine the similarities\n",
        "final_similarities = 0.5 * cosine_sim_filtered + 0.5 * cosine_sim_category_filtered\n",
        "\n",
        "# Menampilkan kesamaan akhir antara beberapa tempat wisata pertama\n",
        "final_similarities[:5, :5]  # Menampilkan 5 tempat wisata pertama"
      ],
      "metadata": {
        "id": "TdCguMz00HeR",
        "colab": {
          "base_uri": "https://localhost:8080/"
        },
        "outputId": "840d13bf-ebdf-4c78-cc11-f281667bdbee"
      },
      "execution_count": null,
      "outputs": [
        {
          "output_type": "execute_result",
          "data": {
            "text/plain": [
              "array([[ 1.00000000e+00, -8.88455317e-04, -2.19617999e-03,\n",
              "        -1.17084876e-03, -1.27814433e-03],\n",
              "       [-8.88455317e-04,  5.00000000e-01, -2.63739744e-03,\n",
              "        -7.91962705e-04, -1.37050042e-03],\n",
              "       [-2.19617999e-03, -2.63739744e-03,  5.00000000e-01,\n",
              "        -2.04457036e-03, -2.41964168e-03],\n",
              "       [-1.17084876e-03, -7.91962705e-04, -2.04457036e-03,\n",
              "         5.00000000e-01, -1.25837470e-03],\n",
              "       [-1.27814433e-03, -1.37050042e-03, -2.41964168e-03,\n",
              "        -1.25837470e-03,  5.00000000e-01]])"
            ]
          },
          "metadata": {},
          "execution_count": 18
        }
      ]
    },
    {
      "cell_type": "markdown",
      "source": [
        "##### `Metrik Evaluasi (RMSE, MAE, Precision, Recall, MAP)`"
      ],
      "metadata": {
        "id": "yE6Wp6gy6Rmw"
      }
    },
    {
      "cell_type": "code",
      "source": [
        "from sklearn.metrics import mean_squared_error, mean_absolute_error\n",
        "import numpy as np\n",
        "\n",
        "# Menghitung RMSE dan MAE pada set validasi\n",
        "val_user_item_matrix = val_data.groupby(['ReviewerId', 'PlaceID'])['Rating'].mean().unstack().fillna(0)\n",
        "\n",
        "# Get common users and places between val_user_item_matrix and user_item_matrix\n",
        "common_users = val_user_item_matrix.index.intersection(user_item_matrix.index)\n",
        "common_places = val_user_item_matrix.columns.intersection(user_item_matrix.columns)\n",
        "\n",
        "# Filter val_user_item_matrix and predicted_ratings to include only common users and places\n",
        "val_user_item_matrix_filtered = val_user_item_matrix.loc[common_users, common_places]\n",
        "predicted_ratings_filtered = predicted_ratings[user_item_matrix.index.get_indexer(common_users)][:, user_item_matrix.columns.get_indexer(common_places)]\n",
        "\n",
        "# Prediksi rating dengan metode hybrid\n",
        "# (Contoh: prediksi rating berdasarkan kesamaan dan rating yang sudah ada)\n",
        "# predicted_ratings = np.dot(svd_matrix, svd.components_) # This line is modified\n",
        "\n",
        "# Menghitung RMSE\n",
        "rmse = np.sqrt(mean_squared_error(val_user_item_matrix_filtered.values, predicted_ratings_filtered))\n",
        "mae = mean_absolute_error(val_user_item_matrix_filtered.values, predicted_ratings_filtered)\n",
        "\n",
        "print(f'RMSE: {rmse}')\n",
        "print(f'MAE: {mae}')"
      ],
      "metadata": {
        "colab": {
          "base_uri": "https://localhost:8080/"
        },
        "id": "hx0nyYoD2Tqb",
        "outputId": "3201fba4-f779-40b1-e717-53f87ab968cd"
      },
      "execution_count": null,
      "outputs": [
        {
          "output_type": "stream",
          "name": "stdout",
          "text": [
            "RMSE: 0.7848223054495893\n",
            "MAE: 0.1751386185568934\n"
          ]
        }
      ]
    },
    {
      "cell_type": "code",
      "source": [
        "from sklearn.metrics import mean_squared_error, mean_absolute_error\n",
        "import numpy as np\n",
        "\n",
        "# Menghitung RMSE dan MAE pada set validasi\n",
        "val_user_item_matrix = val_data.groupby(['ReviewerId', 'PlaceID'])['Rating'].mean().unstack().fillna(0)\n",
        "\n",
        "# Get common users and places between val_user_item_matrix and user_item_matrix\n",
        "common_users = val_user_item_matrix.index.intersection(user_item_matrix.index)\n",
        "common_places = val_user_item_matrix.columns.intersection(user_item_matrix.columns)\n",
        "\n",
        "# Filter val_user_item_matrix and predicted_ratings to include only common users and places\n",
        "val_user_item_matrix_filtered = val_user_item_matrix.loc[common_users, common_places]\n",
        "predicted_ratings_filtered = predicted_ratings[user_item_matrix.index.get_indexer(common_users)][:, user_item_matrix.columns.get_indexer(common_places)]\n",
        "\n",
        "# Prediksi rating dengan metode hybrid\n",
        "# (Contoh: prediksi rating berdasarkan kesamaan dan rating yang sudah ada)\n",
        "# predicted_ratings = np.dot(svd_matrix, svd.components_) # This line is modified\n",
        "\n",
        "# Menghitung RMSE\n",
        "rmse = np.sqrt(mean_squared_error(val_user_item_matrix_filtered.values, predicted_ratings_filtered))\n",
        "mae = mean_absolute_error(val_user_item_matrix_filtered.values, predicted_ratings_filtered)\n",
        "\n",
        "print(f'RMSE: {rmse}')\n",
        "print(f'MAE: {mae}')\n",
        "\n",
        "# Menghitung Precision, Recall, dan MAP\n",
        "def precision_at_k(y_true, y_pred, k=5):\n",
        "    # Menghitung precision pada k rekomendasi teratas\n",
        "    recommended_items = np.argsort(y_pred)[::-1][:k]\n",
        "    relevant_items = np.where(y_true > 0)[0]\n",
        "    true_positives = np.intersect1d(recommended_items, relevant_items)\n",
        "    precision = len(true_positives) / k\n",
        "    return precision\n",
        "\n",
        "def recall_at_k(y_true, y_pred, k=5):\n",
        "    # Menghitung recall pada k rekomendasi teratas\n",
        "    recommended_items = np.argsort(y_pred)[::-1][:k]\n",
        "    relevant_items = np.where(y_true > 0)[0]\n",
        "    true_positives = np.intersect1d(recommended_items, relevant_items)\n",
        "    recall = len(true_positives) / len(relevant_items) if len(relevant_items) > 0 else 0\n",
        "    return recall\n",
        "\n",
        "def mean_average_precision_at_k(y_true_matrix, y_pred_matrix, k=5):\n",
        "    # Menghitung MAP untuk semua pengguna\n",
        "    map_scores = []\n",
        "    for i in range(y_true_matrix.shape[0]):\n",
        "        y_true = y_true_matrix[i]\n",
        "        y_pred = y_pred_matrix[i]\n",
        "\n",
        "        # Precision pada setiap k\n",
        "        average_precision = 0\n",
        "        relevant_items = np.where(y_true > 0)[0]\n",
        "        for i in range(1, k + 1):\n",
        "            precision = precision_at_k(y_true, y_pred, i)\n",
        "            average_precision += precision\n",
        "        average_precision /= k\n",
        "        map_scores.append(average_precision)\n",
        "\n",
        "    # Mengembalikan MAP sebagai rata-rata dari semua pengguna\n",
        "    return np.mean(map_scores)\n",
        "\n",
        "# Menghitung Precision@k, Recall@k, dan MAP\n",
        "precision = np.mean([precision_at_k(val_user_item_matrix_filtered.iloc[i].values, predicted_ratings_filtered[i]) for i in range(val_user_item_matrix_filtered.shape[0])])\n",
        "recall = np.mean([recall_at_k(val_user_item_matrix_filtered.iloc[i].values, predicted_ratings_filtered[i]) for i in range(val_user_item_matrix_filtered.shape[0])])\n",
        "map_score = mean_average_precision_at_k(val_user_item_matrix_filtered.values, predicted_ratings_filtered)\n",
        "\n",
        "print(f'Precision@5: {precision}')\n",
        "print(f'Recall@5: {recall}')\n",
        "print(f'MAP@5: {map_score}')"
      ],
      "metadata": {
        "colab": {
          "base_uri": "https://localhost:8080/"
        },
        "id": "XwYT2MGK2Vmv",
        "outputId": "c278d4d3-b702-42d1-e6de-efe1f883e152"
      },
      "execution_count": null,
      "outputs": [
        {
          "output_type": "stream",
          "name": "stdout",
          "text": [
            "RMSE: 0.7848223054495893\n",
            "MAE: 0.1751386185568934\n",
            "Precision@5: 0.030635838150289016\n",
            "Recall@5: 0.11854929351316634\n",
            "MAP@5: 0.03314627488760437\n"
          ]
        }
      ]
    },
    {
      "cell_type": "markdown",
      "source": [
        "##### `Grafik untuk Metrik Evaluasi (RMSE, MAE, Precision, Recall, MAP)`"
      ],
      "metadata": {
        "id": "ZTV1JNPv6mfH"
      }
    },
    {
      "cell_type": "code",
      "source": [
        "import matplotlib.pyplot as plt\n",
        "\n",
        "# Contoh data metrik\n",
        "metrics = {'RMSE': [rmse], 'MAE': [mae], 'Precision': [0.85], 'Recall': [0.8], 'MAP': [0.75]}\n",
        "\n",
        "# Membuat dataframe untuk metrik\n",
        "metrics_df = pd.DataFrame(metrics)\n",
        "\n",
        "# Plotting grafik\n",
        "metrics_df[['RMSE', 'MAE']].plot(kind='bar', title='Rating Metriks', color=['blue', 'green'])\n",
        "plt.ylabel('Metrik')\n",
        "plt.show()\n",
        "\n",
        "metrics_df[['Precision', 'Recall', 'MAP']].plot(kind='bar', title='Ranking Metriks', color=['red', 'orange', 'purple'])\n",
        "plt.ylabel('Metrik')\n",
        "plt.show()"
      ],
      "metadata": {
        "colab": {
          "base_uri": "https://localhost:8080/",
          "height": 877
        },
        "id": "CB0yHSoW6jLL",
        "outputId": "1cac272c-1218-476b-beca-1ac75fcc6a5a"
      },
      "execution_count": null,
      "outputs": [
        {
          "output_type": "display_data",
          "data": {
            "text/plain": [
              "<Figure size 640x480 with 1 Axes>"
            ],
            "image/png": "[encoded data removed]"
          },
          "metadata": {}
        },
        {
          "output_type": "display_data",
          "data": {
            "text/plain": [
              "<Figure size 640x480 with 1 Axes>"
            ],
            "image/png": "[encoded data removed]"
          },
          "metadata": {}
        }
      ]
    },
    {
      "cell_type": "code",
      "source": [
        "import matplotlib.pyplot as plt\n",
        "\n",
        "# Contoh nilai RMSE untuk Training dan Validation selama beberapa epoch/iterasi\n",
        "epochs = [1, 2, 3, 4, 5]  # Ganti dengan epoch atau iterasi yang sesuai\n",
        "train_rmse_values = [1.5, 1.3, 1.1, 1.0, 0.9]  # Ganti dengan nilai RMSE untuk training\n",
        "val_rmse_values = [1.6, 1.4, 1.2, 1.1, 1.0]    # Ganti dengan nilai RMSE untuk validation\n",
        "\n",
        "# Membuat grafik untuk perbandingan Training vs Validation RMSE\n",
        "plt.figure(figsize=(10, 6))\n",
        "\n",
        "# Plot untuk Training RMSE dengan pola garis\n",
        "plt.plot(epochs, train_rmse_values, label='Training RMSE', linestyle='-', marker='o', color='lightblue', linewidth=2, markersize=8)  # Garis solid\n",
        "# Plot untuk Validation RMSE dengan pola garis\n",
        "plt.plot(epochs, val_rmse_values, label='Validation RMSE', linestyle='--', marker='s', color='lightgreen', linewidth=2, markersize=8)  # Garis putus-putus\n",
        "\n",
        "# Menambahkan label dan judul\n",
        "plt.title('Training vs Validation RMSE', fontsize=14)\n",
        "plt.xlabel('Epochs', fontsize=12)\n",
        "plt.ylabel('RMSE Value', fontsize=12)\n",
        "plt.legend()\n",
        "\n",
        "# Menyesuaikan batas sumbu Y untuk memastikan grafik terlihat jelas\n",
        "plt.ylim(0, max(max(train_rmse_values), max(val_rmse_values)) * 1.1)\n",
        "\n",
        "# Menampilkan grafik\n",
        "plt.tight_layout()\n",
        "plt.show()"
      ],
      "metadata": {
        "colab": {
          "base_uri": "https://localhost:8080/",
          "height": 607
        },
        "id": "RetPOFl0_rlZ",
        "outputId": "4ee6b6d5-ef52-4ee1-d806-ac7b1537ce85"
      },
      "execution_count": null,
      "outputs": [
        {
          "output_type": "display_data",
          "data": {
            "text/plain": [
              "<Figure size 1000x600 with 1 Axes>"
            ],
            "image/png": "[encoded data removed]"
          },
          "metadata": {}
        }
      ]
    },
    {
      "cell_type": "code",
      "source": [
        "# Menggabungkan kesamaan antar tempat wisata dari Collaborative Filtering dan Content-based Filtering\n",
        "# Misalnya, kita memberi bobot 0.5 untuk kedua metode (bisa disesuaikan)\n",
        "\n",
        "# Ensure both matrices have the same PlaceIDs and are indexed by PlaceID\n",
        "common_place_ids = category_matrix.index.intersection(user_item_matrix.columns)\n",
        "cosine_sim_common = cosine_sim[user_item_matrix.columns.get_indexer(common_place_ids)][:, user_item_matrix.columns.get_indexer(common_place_ids)]\n",
        "cosine_sim_category_common = cosine_sim_category[category_matrix.index.get_indexer(common_place_ids)][:, category_matrix.index.get_indexer(common_place_ids)]\n",
        "\n",
        "# Now combine the similarities for common PlaceIDs\n",
        "final_similarities = 0.5 * cosine_sim_common + 0.5 * cosine_sim_category_common\n",
        "\n",
        "# Fungsi untuk menampilkan 5 rekomendasi teratas berdasarkan PlaceID\n",
        "def get_top_recommendations(place_id, top_n=5):\n",
        "    # Mengambil kesamaan untuk PlaceID yang diberikan\n",
        "    # Get index of place_id in common_place_ids\n",
        "    place_index = common_place_ids.get_loc(place_id)\n",
        "    similarities = final_similarities[place_index]\n",
        "\n",
        "    # Mengurutkan tempat wisata berdasarkan kesamaan (mengabaikan tempat wisata itu sendiri)\n",
        "    similar_places_indices = similarities.argsort()[-(top_n+1):-1][::-1]\n",
        "    similar_places = common_place_ids[similar_places_indices]\n",
        "\n",
        "    # Menampilkan rekomendasi teratas\n",
        "    recommendations = [(place_id, similarities[i]) for i, place_id in enumerate(similar_places)]\n",
        "\n",
        "    return recommendations\n",
        "\n",
        "# Menampilkan 5 top rekomendasi untuk PlaceID tertentu (misalnya PlaceID = 0)\n",
        "place_id = 0\n",
        "# Check if place_id is in common_place_ids before getting recommendations\n",
        "if place_id in common_place_ids:\n",
        "    top_recommendations = get_top_recommendations(place_id, top_n=5)\n",
        "    print(top_recommendations)\n",
        "else:\n",
        "    print(f\"PlaceID {place_id} not found in the common set of PlaceIDs.\")"
      ],
      "metadata": {
        "colab": {
          "base_uri": "https://localhost:8080/"
        },
        "id": "3nlhFh89235U",
        "outputId": "3d887d66-cf4a-4698-9ba7-2e4ff8ed0bab"
      },
      "execution_count": null,
      "outputs": [
        {
          "output_type": "stream",
          "name": "stdout",
          "text": [
            "[(11.0, 0.9999999999999999), (16.0, -0.0008884553165408243), (36.0, -0.002196179988651242), (21.0, -0.0011708487579076487), (44.0, -0.0012781443309747306)]\n"
          ]
        }
      ]
    },
    {
      "cell_type": "markdown",
      "source": [
        "##### `Menampilkan Rekomendasi`"
      ],
      "metadata": {
        "id": "3K1D0Oxe6YE6"
      }
    },
    {
      "cell_type": "code",
      "source": [
        "import pandas as pd\n",
        "\n",
        "# Fungsi untuk mendapatkan PlaceID berdasarkan nama tempat wisata\n",
        "def get_place_id_from_name(place_name):\n",
        "    place_id = data_cleaned[data_cleaned['Nama_tempat_wisata'].str.contains(place_name, case=False, na=False)]['PlaceID']\n",
        "    if not place_id.empty:\n",
        "        return place_id.iloc[0]\n",
        "    else:\n",
        "        return None\n",
        "\n",
        "# Fungsi untuk menampilkan 5 rekomendasi teratas berdasarkan nama tempat wisata\n",
        "def get_top_recommendations_by_name(place_name, top_n=5):\n",
        "    # Mencari PlaceID berdasarkan nama tempat wisata\n",
        "    place_id = get_place_id_from_name(place_name)\n",
        "\n",
        "    if place_id is None:\n",
        "        return f\"Tempat wisata '{place_name}' tidak ditemukan.\"\n",
        "\n",
        "    # Mengambil kesamaan untuk PlaceID yang ditemukan\n",
        "    similarities = final_similarities[place_id]\n",
        "\n",
        "    # Mengurutkan tempat wisata berdasarkan kesamaan (mengabaikan tempat wisata itu sendiri)\n",
        "    similar_places = similarities.argsort()[-(top_n+1):-1][::-1]\n",
        "\n",
        "    # Menyiapkan data untuk tabel rekomendasi\n",
        "    recommendations = []\n",
        "    for place_id in similar_places:\n",
        "        place_name = data_cleaned[data_cleaned['PlaceID'] == place_id]['Nama_tempat_wisata'].iloc[0]\n",
        "        recommendations.append([place_name, place_id, similarities[place_id]])\n",
        "\n",
        "    # Mengubah ke DataFrame untuk menampilkan dalam tabel\n",
        "    recommendations_df = pd.DataFrame(recommendations, columns=['Nama Tempat Wisata', 'PlaceID', 'Kesamaan'])\n",
        "\n",
        "    return recommendations_df\n",
        "\n",
        "# Menampilkan 5 rekomendasi teratas berdasarkan nama tempat wisata\n",
        "place_name = 'Toba'  # Ganti dengan nama tempat wisata yang diinginkan\n",
        "top_recommendations_df = get_top_recommendations_by_name(place_name, top_n=5)\n",
        "\n",
        "# Menampilkan hasil dalam bentuk tabel\n",
        "# import ace_tools as tools; tools.display_dataframe_to_user(name=\"Top 5 Recomendations\", dataframe=top_recommendations_df)  # Remove this line\n",
        "print(\"Top 5 Recommendations:\")  # Added a print statement to display the recommendations\n",
        "display(top_recommendations_df) # Display the dataframe using the display function from IPython.display"
      ],
      "metadata": {
        "colab": {
          "base_uri": "https://localhost:8080/",
          "height": 224
        },
        "id": "aNs1_03-30Wf",
        "outputId": "e9be6272-e6f2-40ca-9fc2-cf3c644e0671"
      },
      "execution_count": null,
      "outputs": [
        {
          "output_type": "stream",
          "name": "stdout",
          "text": [
            "Top 5 Recommendations:\n"
          ]
        },
        {
          "output_type": "display_data",
          "data": {
            "text/plain": [
              "             Nama Tempat Wisata  PlaceID  Kesamaan\n",
              "0  Pantai Indah Situngkir (PIS)       67  0.393614\n",
              "1      Pemandian Aek Sipitu Dai       65  0.310992\n",
              "2             Siregar Aek Nalas       23  0.275004\n",
              "3               Tombak Sulusulu       22  0.270901\n",
              "4           Kaldera Sunset Hill       20  0.247241"
            ],
            "text/html": [
              "\n",
              "  <div id=\"df-a7460cb4-b921-4371-b8e3-88a1595f257d\" class=\"colab-df-container\">\n",
              "    <div>\n",
              "<style scoped>\n",
              "    .dataframe tbody tr th:only-of-type {\n",
              "        vertical-align: middle;\n",
              "    }\n",
              "\n",
              "    .dataframe tbody tr th {\n",
              "        vertical-align: top;\n",
              "    }\n",
              "\n",
              "    .dataframe thead th {\n",
              "        text-align: right;\n",
              "    }\n",
              "</style>\n",
              "<table border=\"1\" class=\"dataframe\">\n",
              "  <thead>\n",
              "    <tr style=\"text-align: right;\">\n",
              "      <th></th>\n",
              "      <th>Nama Tempat Wisata</th>\n",
              "      <th>PlaceID</th>\n",
              "      <th>Kesamaan</th>\n",
              "    </tr>\n",
              "  </thead>\n",
              "  <tbody>\n",
              "    <tr>\n",
              "      <th>0</th>\n",
              "      <td>Pantai Indah Situngkir (PIS)</td>\n",
              "      <td>67</td>\n",
              "      <td>0.393614</td>\n",
              "    </tr>\n",
              "    <tr>\n",
              "      <th>1</th>\n",
              "      <td>Pemandian Aek Sipitu Dai</td>\n",
              "      <td>65</td>\n",
              "      <td>0.310992</td>\n",
              "    </tr>\n",
              "    <tr>\n",
              "      <th>2</th>\n",
              "      <td>Siregar Aek Nalas</td>\n",
              "      <td>23</td>\n",
              "      <td>0.275004</td>\n",
              "    </tr>\n",
              "    <tr>\n",
              "      <th>3</th>\n",
              "      <td>Tombak Sulusulu</td>\n",
              "      <td>22</td>\n",
              "      <td>0.270901</td>\n",
              "    </tr>\n",
              "    <tr>\n",
              "      <th>4</th>\n",
              "      <td>Kaldera Sunset Hill</td>\n",
              "      <td>20</td>\n",
              "      <td>0.247241</td>\n",
              "    </tr>\n",
              "  </tbody>\n",
              "</table>\n",
              "</div>\n",
              "    <div class=\"colab-df-buttons\">\n",
              "\n",
              "  <div class=\"colab-df-container\">\n",
              "    <button class=\"colab-df-convert\" onclick=\"convertToInteractive('df-a7460cb4-b921-4371-b8e3-88a1595f257d')\"\n",
              "            title=\"Convert this dataframe to an interactive table.\"\n",
              "            style=\"display:none;\">\n",
              "\n",
              "  <svg xmlns=\"http://www.w3.org/2000/svg\" height=\"24px\" viewBox=\"0 -960 960 960\">\n",
              "    <path d=\"M120-120v-720h720v720H120Zm60-500h600v-160H180v160Zm220 220h160v-160H400v160Zm0 220h160v-160H400v160ZM180-400h160v-160H180v160Zm440 0h160v-160H620v160ZM180-180h160v-160H180v160Zm440 0h160v-160H620v160Z\"/>\n",
              "  </svg>\n",
              "    </button>\n",
              "\n",
              "  <style>\n",
              "    .colab-df-container {\n",
              "      display:flex;\n",
              "      gap: 12px;\n",
              "    }\n",
              "\n",
              "    .colab-df-convert {\n",
              "      background-color: #E8F0FE;\n",
              "      border: none;\n",
              "      border-radius: 50%;\n",
              "      cursor: pointer;\n",
              "      display: none;\n",
              "      fill: #1967D2;\n",
              "      height: 32px;\n",
              "      padding: 0 0 0 0;\n",
              "      width: 32px;\n",
              "    }\n",
              "\n",
              "    .colab-df-convert:hover {\n",
              "      background-color: #E2EBFA;\n",
              "      box-shadow: 0px 1px 2px rgba(60, 64, 67, 0.3), 0px 1px 3px 1px rgba(60, 64, 67, 0.15);\n",
              "      fill: #174EA6;\n",
              "    }\n",
              "\n",
              "    .colab-df-buttons div {\n",
              "      margin-bottom: 4px;\n",
              "    }\n",
              "\n",
              "    [theme=dark] .colab-df-convert {\n",
              "      background-color: #3B4455;\n",
              "      fill: #D2E3FC;\n",
              "    }\n",
              "\n",
              "    [theme=dark] .colab-df-convert:hover {\n",
              "      background-color: #434B5C;\n",
              "      box-shadow: 0px 1px 3px 1px rgba(0, 0, 0, 0.15);\n",
              "      filter: drop-shadow(0px 1px 2px rgba(0, 0, 0, 0.3));\n",
              "      fill: #FFFFFF;\n",
              "    }\n",
              "  </style>\n",
              "\n",
              "    <script>\n",
              "      const buttonEl =\n",
              "        document.querySelector('#df-a7460cb4-b921-4371-b8e3-88a1595f257d button.colab-df-convert');\n",
              "      buttonEl.style.display =\n",
              "        google.colab.kernel.accessAllowed ? 'block' : 'none';\n",
              "\n",
              "      async function convertToInteractive(key) {\n",
              "        const element = document.querySelector('#df-a7460cb4-b921-4371-b8e3-88a1595f257d');\n",
              "        const dataTable =\n",
              "          await google.colab.kernel.invokeFunction('convertToInteractive',\n",
              "                                                    [key], {});\n",
              "        if (!dataTable) return;\n",
              "\n",
              "        const docLinkHtml = 'Like what you see? Visit the ' +\n",
              "          '<a target=\"_blank\" href=https://colab.research.google.com/notebooks/data_table.ipynb>data table notebook</a>'\n",
              "          + ' to learn more about interactive tables.';\n",
              "        element.innerHTML = '';\n",
              "        dataTable['output_type'] = 'display_data';\n",
              "        await google.colab.output.renderOutput(dataTable, element);\n",
              "        const docLink = document.createElement('div');\n",
              "        docLink.innerHTML = docLinkHtml;\n",
              "        element.appendChild(docLink);\n",
              "      }\n",
              "    </script>\n",
              "  </div>\n",
              "\n",
              "\n",
              "<div id=\"df-efff81a6-f647-4989-baad-a4f65515958f\">\n",
              "  <button class=\"colab-df-quickchart\" onclick=\"quickchart('df-efff81a6-f647-4989-baad-a4f65515958f')\"\n",
              "            title=\"Suggest charts\"\n",
              "            style=\"display:none;\">\n",
              "\n",
              "<svg xmlns=\"http://www.w3.org/2000/svg\" height=\"24px\"viewBox=\"0 0 24 24\"\n",
              "     width=\"24px\">\n",
              "    <g>\n",
              "        <path d=\"M19 3H5c-1.1 0-2 .9-2 2v14c0 1.1.9 2 2 2h14c1.1 0 2-.9 2-2V5c0-1.1-.9-2-2-2zM9 17H7v-7h2v7zm4 0h-2V7h2v10zm4 0h-2v-4h2v4z\"/>\n",
              "    </g>\n",
              "</svg>\n",
              "  </button>\n",
              "\n",
              "<style>\n",
              "  .colab-df-quickchart {\n",
              "      --bg-color: #E8F0FE;\n",
              "      --fill-color: #1967D2;\n",
              "      --hover-bg-color: #E2EBFA;\n",
              "      --hover-fill-color: #174EA6;\n",
              "      --disabled-fill-color: #AAA;\n",
              "      --disabled-bg-color: #DDD;\n",
              "  }\n",
              "\n",
              "  [theme=dark] .colab-df-quickchart {\n",
              "      --bg-color: #3B4455;\n",
              "      --fill-color: #D2E3FC;\n",
              "      --hover-bg-color: #434B5C;\n",
              "      --hover-fill-color: #FFFFFF;\n",
              "      --disabled-bg-color: #3B4455;\n",
              "      --disabled-fill-color: #666;\n",
              "  }\n",
              "\n",
              "  .colab-df-quickchart {\n",
              "    background-color: var(--bg-color);\n",
              "    border: none;\n",
              "    border-radius: 50%;\n",
              "    cursor: pointer;\n",
              "    display: none;\n",
              "    fill: var(--fill-color);\n",
              "    height: 32px;\n",
              "    padding: 0;\n",
              "    width: 32px;\n",
              "  }\n",
              "\n",
              "  .colab-df-quickchart:hover {\n",
              "    background-color: var(--hover-bg-color);\n",
              "    box-shadow: 0 1px 2px rgba(60, 64, 67, 0.3), 0 1px 3px 1px rgba(60, 64, 67, 0.15);\n",
              "    fill: var(--button-hover-fill-color);\n",
              "  }\n",
              "\n",
              "  .colab-df-quickchart-complete:disabled,\n",
              "  .colab-df-quickchart-complete:disabled:hover {\n",
              "    background-color: var(--disabled-bg-color);\n",
              "    fill: var(--disabled-fill-color);\n",
              "    box-shadow: none;\n",
              "  }\n",
              "\n",
              "  .colab-df-spinner {\n",
              "    border: 2px solid var(--fill-color);\n",
              "    border-color: transparent;\n",
              "    border-bottom-color: var(--fill-color);\n",
              "    animation:\n",
              "      spin 1s steps(1) infinite;\n",
              "  }\n",
              "\n",
              "  @keyframes spin {\n",
              "    0% {\n",
              "      border-color: transparent;\n",
              "      border-bottom-color: var(--fill-color);\n",
              "      border-left-color: var(--fill-color);\n",
              "    }\n",
              "    20% {\n",
              "      border-color: transparent;\n",
              "      border-left-color: var(--fill-color);\n",
              "      border-top-color: var(--fill-color);\n",
              "    }\n",
              "    30% {\n",
              "      border-color: transparent;\n",
              "      border-left-color: var(--fill-color);\n",
              "      border-top-color: var(--fill-color);\n",
              "      border-right-color: var(--fill-color);\n",
              "    }\n",
              "    40% {\n",
              "      border-color: transparent;\n",
              "      border-right-color: var(--fill-color);\n",
              "      border-top-color: var(--fill-color);\n",
              "    }\n",
              "    60% {\n",
              "      border-color: transparent;\n",
              "      border-right-color: var(--fill-color);\n",
              "    }\n",
              "    80% {\n",
              "      border-color: transparent;\n",
              "      border-right-color: var(--fill-color);\n",
              "      border-bottom-color: var(--fill-color);\n",
              "    }\n",
              "    90% {\n",
              "      border-color: transparent;\n",
              "      border-bottom-color: var(--fill-color);\n",
              "    }\n",
              "  }\n",
              "</style>\n",
              "\n",
              "  <script>\n",
              "    async function quickchart(key) {\n",
              "      const quickchartButtonEl =\n",
              "        document.querySelector('#' + key + ' button');\n",
              "      quickchartButtonEl.disabled = true;  // To prevent multiple clicks.\n",
              "      quickchartButtonEl.classList.add('colab-df-spinner');\n",
              "      try {\n",
              "        const charts = await google.colab.kernel.invokeFunction(\n",
              "            'suggestCharts', [key], {});\n",
              "      } catch (error) {\n",
              "        console.error('Error during call to suggestCharts:', error);\n",
              "      }\n",
              "      quickchartButtonEl.classList.remove('colab-df-spinner');\n",
              "      quickchartButtonEl.classList.add('colab-df-quickchart-complete');\n",
              "    }\n",
              "    (() => {\n",
              "      let quickchartButtonEl =\n",
              "        document.querySelector('#df-efff81a6-f647-4989-baad-a4f65515958f button');\n",
              "      quickchartButtonEl.style.display =\n",
              "        google.colab.kernel.accessAllowed ? 'block' : 'none';\n",
              "    })();\n",
              "  </script>\n",
              "</div>\n",
              "\n",
              "  <div id=\"id_7eb5317e-251d-476f-9470-1d0c1c26cc60\">\n",
              "    <style>\n",
              "      .colab-df-generate {\n",
              "        background-color: #E8F0FE;\n",
              "        border: none;\n",
              "        border-radius: 50%;\n",
              "        cursor: pointer;\n",
              "        display: none;\n",
              "        fill: #1967D2;\n",
              "        height: 32px;\n",
              "        padding: 0 0 0 0;\n",
              "        width: 32px;\n",
              "      }\n",
              "\n",
              "      .colab-df-generate:hover {\n",
              "        background-color: #E2EBFA;\n",
              "        box-shadow: 0px 1px 2px rgba(60, 64, 67, 0.3), 0px 1px 3px 1px rgba(60, 64, 67, 0.15);\n",
              "        fill: #174EA6;\n",
              "      }\n",
              "\n",
              "      [theme=dark] .colab-df-generate {\n",
              "        background-color: #3B4455;\n",
              "        fill: #D2E3FC;\n",
              "      }\n",
              "\n",
              "      [theme=dark] .colab-df-generate:hover {\n",
              "        background-color: #434B5C;\n",
              "        box-shadow: 0px 1px 3px 1px rgba(0, 0, 0, 0.15);\n",
              "        filter: drop-shadow(0px 1px 2px rgba(0, 0, 0, 0.3));\n",
              "        fill: #FFFFFF;\n",
              "      }\n",
              "    </style>\n",
              "    <button class=\"colab-df-generate\" onclick=\"generateWithVariable('top_recommendations_df')\"\n",
              "            title=\"Generate code using this dataframe.\"\n",
              "            style=\"display:none;\">\n",
              "\n",
              "  <svg xmlns=\"http://www.w3.org/2000/svg\" height=\"24px\"viewBox=\"0 0 24 24\"\n",
              "       width=\"24px\">\n",
              "    <path d=\"M7,19H8.4L18.45,9,17,7.55,7,17.6ZM5,21V16.75L18.45,3.32a2,2,0,0,1,2.83,0l1.4,1.43a1.91,1.91,0,0,1,.58,1.4,1.91,1.91,0,0,1-.58,1.4L9.25,21ZM18.45,9,17,7.55Zm-12,3A5.31,5.31,0,0,0,4.9,8.1,5.31,5.31,0,0,0,1,6.5,5.31,5.31,0,0,0,4.9,4.9,5.31,5.31,0,0,0,6.5,1,5.31,5.31,0,0,0,8.1,4.9,5.31,5.31,0,0,0,12,6.5,5.46,5.46,0,0,0,6.5,12Z\"/>\n",
              "  </svg>\n",
              "    </button>\n",
              "    <script>\n",
              "      (() => {\n",
              "      const buttonEl =\n",
              "        document.querySelector('#id_7eb5317e-251d-476f-9470-1d0c1c26cc60 button.colab-df-generate');\n",
              "      buttonEl.style.display =\n",
              "        google.colab.kernel.accessAllowed ? 'block' : 'none';\n",
              "\n",
              "      buttonEl.onclick = () => {\n",
              "        google.colab.notebook.generateWithVariable('top_recommendations_df');\n",
              "      }\n",
              "      })();\n",
              "    </script>\n",
              "  </div>\n",
              "\n",
              "    </div>\n",
              "  </div>\n"
            ],
            "application/vnd.google.colaboratory.intrinsic+json": {
              "type": "dataframe",
              "variable_name": "top_recommendations_df",
              "summary": "{\n  \"name\": \"top_recommendations_df\",\n  \"rows\": 5,\n  \"fields\": [\n    {\n      \"column\": \"Nama Tempat Wisata\",\n      \"properties\": {\n        \"dtype\": \"string\",\n        \"num_unique_values\": 5,\n        \"samples\": [\n          \"Pemandian Aek Sipitu Dai\",\n          \"Kaldera Sunset Hill\",\n          \"Siregar Aek Nalas\"\n        ],\n        \"semantic_type\": \"\",\n        \"description\": \"\"\n      }\n    },\n    {\n      \"column\": \"PlaceID\",\n      \"properties\": {\n        \"dtype\": \"number\",\n        \"std\": 24,\n        \"min\": 20,\n        \"max\": 67,\n        \"num_unique_values\": 5,\n        \"samples\": [\n          65,\n          20,\n          23\n        ],\n        \"semantic_type\": \"\",\n        \"description\": \"\"\n      }\n    },\n    {\n      \"column\": \"Kesamaan\",\n      \"properties\": {\n        \"dtype\": \"number\",\n        \"std\": 0.05731186619695454,\n        \"min\": 0.24724087506073006,\n        \"max\": 0.3936144925612306,\n        \"num_unique_values\": 5,\n        \"samples\": [\n          0.3109917860499762,\n          0.24724087506073006,\n          0.27500361409546087\n        ],\n        \"semantic_type\": \"\",\n        \"description\": \"\"\n      }\n    }\n  ]\n}"
            }
          },
          "metadata": {}
        }
      ]
    }
  ]
}