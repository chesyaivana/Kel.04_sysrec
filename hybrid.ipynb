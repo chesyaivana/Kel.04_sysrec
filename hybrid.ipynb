{
  "nbformat": 4,
  "nbformat_minor": 0,
  "metadata": {
    "colab": {
      "provenance": [],
      "gpuType": "T4",
      "include_colab_link": true
    },
    "kernelspec": {
      "name": "python3",
      "display_name": "Python 3"
    },
    "language_info": {
      "name": "python"
    },
    "accelerator": "GPU"
  },
  "cells": [
    {
      "cell_type": "markdown",
      "metadata": {
        "id": "view-in-github",
        "colab_type": "text"
      },
      "source": [
        "<a href=\"https://colab.research.google.com/github/chesyaivana/Kel.04_sysrec/blob/main/hybrid.ipynb\" target=\"_parent\"><img src=\"https://colab.research.google.com/assets/colab-badge.svg\" alt=\"Open In Colab\"/></a>"
      ]
    },
    {
      "cell_type": "markdown",
      "source": [
        "# 1. Import Library yang Dibutuhkan\n"
      ],
      "metadata": {
        "id": "swVKUPMEk4oV"
      }
    },
    {
      "cell_type": "code",
      "execution_count": null,
      "metadata": {
        "id": "n1cENXtGKGft",
        "colab": {
          "base_uri": "https://localhost:8080/"
        },
        "outputId": "3f0558eb-b551-47f1-fc4e-57dd1193d952"
      },
      "outputs": [
        {
          "output_type": "stream",
          "name": "stderr",
          "text": [
            "[nltk_data] Downloading package stopwords to /root/nltk_data...\n",
            "[nltk_data]   Package stopwords is already up-to-date!\n"
          ]
        },
        {
          "output_type": "execute_result",
          "data": {
            "text/plain": [
              "True"
            ]
          },
          "metadata": {},
          "execution_count": 1
        }
      ],
      "source": [
        "# Import library untuk analisis data dan pemrosesan teks\n",
        "import pandas as pd\n",
        "from sklearn.feature_extraction.text import TfidfVectorizer\n",
        "from sklearn.model_selection import train_test_split\n",
        "from sklearn.naive_bayes import MultinomialNB\n",
        "from sklearn.metrics import accuracy_score, classification_report\n",
        "import nltk\n",
        "from nltk.corpus import stopwords\n",
        "from sklearn.metrics.pairwise import cosine_similarity\n",
        "import numpy as np\n",
        "\n",
        "# Unduh stopwords\n",
        "nltk.download('stopwords')"
      ]
    },
    {
      "cell_type": "markdown",
      "source": [
        "# 2. Preprocessing Data"
      ],
      "metadata": {
        "id": "9dHVsqCHL-8k"
      }
    },
    {
      "cell_type": "code",
      "source": [
        "# Load data\n",
        "data = pd.read_csv('Tempat-Wisata-Toba-Preprocessing.csv')\n",
        "\n",
        "# Bersihkan data teks pada kolom Reviews\n",
        "stop_words = set(stopwords.words('indonesian'))\n",
        "data['clean_reviews'] = data['Reviews'].apply(lambda x: ' '.join(\n",
        "    [word.lower() for word in str(x).split() if word not in stop_words]\n",
        "))\n",
        "\n",
        "# Tampilkan data yang sudah diproses\n",
        "data.head()\n"
      ],
      "metadata": {
        "colab": {
          "base_uri": "https://localhost:8080/",
          "height": 310
        },
        "id": "YnvxKULFL_n3",
        "outputId": "780c9fca-ed1f-45c3-ea0e-b3e655cd2120"
      },
      "execution_count": null,
      "outputs": [
        {
          "output_type": "execute_result",
          "data": {
            "text/plain": [
              "   Unnamed: 0.1  Unnamed: 0  \\\n",
              "0             0           0   \n",
              "1             1           1   \n",
              "2             2           2   \n",
              "3             3           3   \n",
              "4             4           4   \n",
              "\n",
              "                                             address  PlaceID  \\\n",
              "0  Jl. Sibola Hotang, Sibola Hotangsas, Kec. Bali...        0   \n",
              "1  Jl. Sibola Hotang, Sibola Hotangsas, Kec. Bali...        0   \n",
              "2  Jl. Sibola Hotang, Sibola Hotangsas, Kec. Bali...        0   \n",
              "3  Jl. Sibola Hotang, Sibola Hotangsas, Kec. Bali...        0   \n",
              "4  Jl. Sibola Hotang, Sibola Hotangsas, Kec. Bali...        0   \n",
              "\n",
              "          Nama_tempat_wisata       Category    ReviewerId  Rating  \\\n",
              "0  PASIR PUTIH LUMBAN BULBUL  Wisata Bahari  1.126030e+20     5.0   \n",
              "1  PASIR PUTIH LUMBAN BULBUL  Wisata Bahari  1.119090e+20     5.0   \n",
              "2  PASIR PUTIH LUMBAN BULBUL  Wisata Bahari  1.078860e+20     5.0   \n",
              "3  PASIR PUTIH LUMBAN BULBUL  Wisata Bahari  1.130720e+20     5.0   \n",
              "4  PASIR PUTIH LUMBAN BULBUL  Wisata Bahari  1.061730e+20     5.0   \n",
              "\n",
              "                         Reviews             clean_reviews  \n",
              "0                            NaN                       nan  \n",
              "1                          bagus                     bagus  \n",
              "2                            NaN                       nan  \n",
              "3             sangat menyenagkan               menyenagkan  \n",
              "4  bebas foto dimana aja cuma 2k  bebas foto dimana aja 2k  "
            ],
            "text/html": [
              "\n",
              "  <div id=\"df-ae34369f-df58-4b5b-9ef5-b2d8beeee06c\" class=\"colab-df-container\">\n",
              "    <div>\n",
              "<style scoped>\n",
              "    .dataframe tbody tr th:only-of-type {\n",
              "        vertical-align: middle;\n",
              "    }\n",
              "\n",
              "    .dataframe tbody tr th {\n",
              "        vertical-align: top;\n",
              "    }\n",
              "\n",
              "    .dataframe thead th {\n",
              "        text-align: right;\n",
              "    }\n",
              "</style>\n",
              "<table border=\"1\" class=\"dataframe\">\n",
              "  <thead>\n",
              "    <tr style=\"text-align: right;\">\n",
              "      <th></th>\n",
              "      <th>Unnamed: 0.1</th>\n",
              "      <th>Unnamed: 0</th>\n",
              "      <th>address</th>\n",
              "      <th>PlaceID</th>\n",
              "      <th>Nama_tempat_wisata</th>\n",
              "      <th>Category</th>\n",
              "      <th>ReviewerId</th>\n",
              "      <th>Rating</th>\n",
              "      <th>Reviews</th>\n",
              "      <th>clean_reviews</th>\n",
              "    </tr>\n",
              "  </thead>\n",
              "  <tbody>\n",
              "    <tr>\n",
              "      <th>0</th>\n",
              "      <td>0</td>\n",
              "      <td>0</td>\n",
              "      <td>Jl. Sibola Hotang, Sibola Hotangsas, Kec. Bali...</td>\n",
              "      <td>0</td>\n",
              "      <td>PASIR PUTIH LUMBAN BULBUL</td>\n",
              "      <td>Wisata Bahari</td>\n",
              "      <td>1.126030e+20</td>\n",
              "      <td>5.0</td>\n",
              "      <td>NaN</td>\n",
              "      <td>nan</td>\n",
              "    </tr>\n",
              "    <tr>\n",
              "      <th>1</th>\n",
              "      <td>1</td>\n",
              "      <td>1</td>\n",
              "      <td>Jl. Sibola Hotang, Sibola Hotangsas, Kec. Bali...</td>\n",
              "      <td>0</td>\n",
              "      <td>PASIR PUTIH LUMBAN BULBUL</td>\n",
              "      <td>Wisata Bahari</td>\n",
              "      <td>1.119090e+20</td>\n",
              "      <td>5.0</td>\n",
              "      <td>bagus</td>\n",
              "      <td>bagus</td>\n",
              "    </tr>\n",
              "    <tr>\n",
              "      <th>2</th>\n",
              "      <td>2</td>\n",
              "      <td>2</td>\n",
              "      <td>Jl. Sibola Hotang, Sibola Hotangsas, Kec. Bali...</td>\n",
              "      <td>0</td>\n",
              "      <td>PASIR PUTIH LUMBAN BULBUL</td>\n",
              "      <td>Wisata Bahari</td>\n",
              "      <td>1.078860e+20</td>\n",
              "      <td>5.0</td>\n",
              "      <td>NaN</td>\n",
              "      <td>nan</td>\n",
              "    </tr>\n",
              "    <tr>\n",
              "      <th>3</th>\n",
              "      <td>3</td>\n",
              "      <td>3</td>\n",
              "      <td>Jl. Sibola Hotang, Sibola Hotangsas, Kec. Bali...</td>\n",
              "      <td>0</td>\n",
              "      <td>PASIR PUTIH LUMBAN BULBUL</td>\n",
              "      <td>Wisata Bahari</td>\n",
              "      <td>1.130720e+20</td>\n",
              "      <td>5.0</td>\n",
              "      <td>sangat menyenagkan</td>\n",
              "      <td>menyenagkan</td>\n",
              "    </tr>\n",
              "    <tr>\n",
              "      <th>4</th>\n",
              "      <td>4</td>\n",
              "      <td>4</td>\n",
              "      <td>Jl. Sibola Hotang, Sibola Hotangsas, Kec. Bali...</td>\n",
              "      <td>0</td>\n",
              "      <td>PASIR PUTIH LUMBAN BULBUL</td>\n",
              "      <td>Wisata Bahari</td>\n",
              "      <td>1.061730e+20</td>\n",
              "      <td>5.0</td>\n",
              "      <td>bebas foto dimana aja cuma 2k</td>\n",
              "      <td>bebas foto dimana aja 2k</td>\n",
              "    </tr>\n",
              "  </tbody>\n",
              "</table>\n",
              "</div>\n",
              "    <div class=\"colab-df-buttons\">\n",
              "\n",
              "  <div class=\"colab-df-container\">\n",
              "    <button class=\"colab-df-convert\" onclick=\"convertToInteractive('df-ae34369f-df58-4b5b-9ef5-b2d8beeee06c')\"\n",
              "            title=\"Convert this dataframe to an interactive table.\"\n",
              "            style=\"display:none;\">\n",
              "\n",
              "  <svg xmlns=\"http://www.w3.org/2000/svg\" height=\"24px\" viewBox=\"0 -960 960 960\">\n",
              "    <path d=\"M120-120v-720h720v720H120Zm60-500h600v-160H180v160Zm220 220h160v-160H400v160Zm0 220h160v-160H400v160ZM180-400h160v-160H180v160Zm440 0h160v-160H620v160ZM180-180h160v-160H180v160Zm440 0h160v-160H620v160Z\"/>\n",
              "  </svg>\n",
              "    </button>\n",
              "\n",
              "  <style>\n",
              "    .colab-df-container {\n",
              "      display:flex;\n",
              "      gap: 12px;\n",
              "    }\n",
              "\n",
              "    .colab-df-convert {\n",
              "      background-color: #E8F0FE;\n",
              "      border: none;\n",
              "      border-radius: 50%;\n",
              "      cursor: pointer;\n",
              "      display: none;\n",
              "      fill: #1967D2;\n",
              "      height: 32px;\n",
              "      padding: 0 0 0 0;\n",
              "      width: 32px;\n",
              "    }\n",
              "\n",
              "    .colab-df-convert:hover {\n",
              "      background-color: #E2EBFA;\n",
              "      box-shadow: 0px 1px 2px rgba(60, 64, 67, 0.3), 0px 1px 3px 1px rgba(60, 64, 67, 0.15);\n",
              "      fill: #174EA6;\n",
              "    }\n",
              "\n",
              "    .colab-df-buttons div {\n",
              "      margin-bottom: 4px;\n",
              "    }\n",
              "\n",
              "    [theme=dark] .colab-df-convert {\n",
              "      background-color: #3B4455;\n",
              "      fill: #D2E3FC;\n",
              "    }\n",
              "\n",
              "    [theme=dark] .colab-df-convert:hover {\n",
              "      background-color: #434B5C;\n",
              "      box-shadow: 0px 1px 3px 1px rgba(0, 0, 0, 0.15);\n",
              "      filter: drop-shadow(0px 1px 2px rgba(0, 0, 0, 0.3));\n",
              "      fill: #FFFFFF;\n",
              "    }\n",
              "  </style>\n",
              "\n",
              "    <script>\n",
              "      const buttonEl =\n",
              "        document.querySelector('#df-ae34369f-df58-4b5b-9ef5-b2d8beeee06c button.colab-df-convert');\n",
              "      buttonEl.style.display =\n",
              "        google.colab.kernel.accessAllowed ? 'block' : 'none';\n",
              "\n",
              "      async function convertToInteractive(key) {\n",
              "        const element = document.querySelector('#df-ae34369f-df58-4b5b-9ef5-b2d8beeee06c');\n",
              "        const dataTable =\n",
              "          await google.colab.kernel.invokeFunction('convertToInteractive',\n",
              "                                                    [key], {});\n",
              "        if (!dataTable) return;\n",
              "\n",
              "        const docLinkHtml = 'Like what you see? Visit the ' +\n",
              "          '<a target=\"_blank\" href=https://colab.research.google.com/notebooks/data_table.ipynb>data table notebook</a>'\n",
              "          + ' to learn more about interactive tables.';\n",
              "        element.innerHTML = '';\n",
              "        dataTable['output_type'] = 'display_data';\n",
              "        await google.colab.output.renderOutput(dataTable, element);\n",
              "        const docLink = document.createElement('div');\n",
              "        docLink.innerHTML = docLinkHtml;\n",
              "        element.appendChild(docLink);\n",
              "      }\n",
              "    </script>\n",
              "  </div>\n",
              "\n",
              "\n",
              "<div id=\"df-c9d9336e-18a5-425d-9635-9fdb5e51a57a\">\n",
              "  <button class=\"colab-df-quickchart\" onclick=\"quickchart('df-c9d9336e-18a5-425d-9635-9fdb5e51a57a')\"\n",
              "            title=\"Suggest charts\"\n",
              "            style=\"display:none;\">\n",
              "\n",
              "<svg xmlns=\"http://www.w3.org/2000/svg\" height=\"24px\"viewBox=\"0 0 24 24\"\n",
              "     width=\"24px\">\n",
              "    <g>\n",
              "        <path d=\"M19 3H5c-1.1 0-2 .9-2 2v14c0 1.1.9 2 2 2h14c1.1 0 2-.9 2-2V5c0-1.1-.9-2-2-2zM9 17H7v-7h2v7zm4 0h-2V7h2v10zm4 0h-2v-4h2v4z\"/>\n",
              "    </g>\n",
              "</svg>\n",
              "  </button>\n",
              "\n",
              "<style>\n",
              "  .colab-df-quickchart {\n",
              "      --bg-color: #E8F0FE;\n",
              "      --fill-color: #1967D2;\n",
              "      --hover-bg-color: #E2EBFA;\n",
              "      --hover-fill-color: #174EA6;\n",
              "      --disabled-fill-color: #AAA;\n",
              "      --disabled-bg-color: #DDD;\n",
              "  }\n",
              "\n",
              "  [theme=dark] .colab-df-quickchart {\n",
              "      --bg-color: #3B4455;\n",
              "      --fill-color: #D2E3FC;\n",
              "      --hover-bg-color: #434B5C;\n",
              "      --hover-fill-color: #FFFFFF;\n",
              "      --disabled-bg-color: #3B4455;\n",
              "      --disabled-fill-color: #666;\n",
              "  }\n",
              "\n",
              "  .colab-df-quickchart {\n",
              "    background-color: var(--bg-color);\n",
              "    border: none;\n",
              "    border-radius: 50%;\n",
              "    cursor: pointer;\n",
              "    display: none;\n",
              "    fill: var(--fill-color);\n",
              "    height: 32px;\n",
              "    padding: 0;\n",
              "    width: 32px;\n",
              "  }\n",
              "\n",
              "  .colab-df-quickchart:hover {\n",
              "    background-color: var(--hover-bg-color);\n",
              "    box-shadow: 0 1px 2px rgba(60, 64, 67, 0.3), 0 1px 3px 1px rgba(60, 64, 67, 0.15);\n",
              "    fill: var(--button-hover-fill-color);\n",
              "  }\n",
              "\n",
              "  .colab-df-quickchart-complete:disabled,\n",
              "  .colab-df-quickchart-complete:disabled:hover {\n",
              "    background-color: var(--disabled-bg-color);\n",
              "    fill: var(--disabled-fill-color);\n",
              "    box-shadow: none;\n",
              "  }\n",
              "\n",
              "  .colab-df-spinner {\n",
              "    border: 2px solid var(--fill-color);\n",
              "    border-color: transparent;\n",
              "    border-bottom-color: var(--fill-color);\n",
              "    animation:\n",
              "      spin 1s steps(1) infinite;\n",
              "  }\n",
              "\n",
              "  @keyframes spin {\n",
              "    0% {\n",
              "      border-color: transparent;\n",
              "      border-bottom-color: var(--fill-color);\n",
              "      border-left-color: var(--fill-color);\n",
              "    }\n",
              "    20% {\n",
              "      border-color: transparent;\n",
              "      border-left-color: var(--fill-color);\n",
              "      border-top-color: var(--fill-color);\n",
              "    }\n",
              "    30% {\n",
              "      border-color: transparent;\n",
              "      border-left-color: var(--fill-color);\n",
              "      border-top-color: var(--fill-color);\n",
              "      border-right-color: var(--fill-color);\n",
              "    }\n",
              "    40% {\n",
              "      border-color: transparent;\n",
              "      border-right-color: var(--fill-color);\n",
              "      border-top-color: var(--fill-color);\n",
              "    }\n",
              "    60% {\n",
              "      border-color: transparent;\n",
              "      border-right-color: var(--fill-color);\n",
              "    }\n",
              "    80% {\n",
              "      border-color: transparent;\n",
              "      border-right-color: var(--fill-color);\n",
              "      border-bottom-color: var(--fill-color);\n",
              "    }\n",
              "    90% {\n",
              "      border-color: transparent;\n",
              "      border-bottom-color: var(--fill-color);\n",
              "    }\n",
              "  }\n",
              "</style>\n",
              "\n",
              "  <script>\n",
              "    async function quickchart(key) {\n",
              "      const quickchartButtonEl =\n",
              "        document.querySelector('#' + key + ' button');\n",
              "      quickchartButtonEl.disabled = true;  // To prevent multiple clicks.\n",
              "      quickchartButtonEl.classList.add('colab-df-spinner');\n",
              "      try {\n",
              "        const charts = await google.colab.kernel.invokeFunction(\n",
              "            'suggestCharts', [key], {});\n",
              "      } catch (error) {\n",
              "        console.error('Error during call to suggestCharts:', error);\n",
              "      }\n",
              "      quickchartButtonEl.classList.remove('colab-df-spinner');\n",
              "      quickchartButtonEl.classList.add('colab-df-quickchart-complete');\n",
              "    }\n",
              "    (() => {\n",
              "      let quickchartButtonEl =\n",
              "        document.querySelector('#df-c9d9336e-18a5-425d-9635-9fdb5e51a57a button');\n",
              "      quickchartButtonEl.style.display =\n",
              "        google.colab.kernel.accessAllowed ? 'block' : 'none';\n",
              "    })();\n",
              "  </script>\n",
              "</div>\n",
              "\n",
              "    </div>\n",
              "  </div>\n"
            ],
            "application/vnd.google.colaboratory.intrinsic+json": {
              "type": "dataframe",
              "variable_name": "data",
              "summary": "{\n  \"name\": \"data\",\n  \"rows\": 43226,\n  \"fields\": [\n    {\n      \"column\": \"Unnamed: 0.1\",\n      \"properties\": {\n        \"dtype\": \"number\",\n        \"std\": 12478,\n        \"min\": 0,\n        \"max\": 43225,\n        \"num_unique_values\": 43226,\n        \"samples\": [\n          465,\n          1278,\n          15320\n        ],\n        \"semantic_type\": \"\",\n        \"description\": \"\"\n      }\n    },\n    {\n      \"column\": \"Unnamed: 0\",\n      \"properties\": {\n        \"dtype\": \"number\",\n        \"std\": 12478,\n        \"min\": 0,\n        \"max\": 43225,\n        \"num_unique_values\": 43226,\n        \"samples\": [\n          465,\n          1278,\n          15320\n        ],\n        \"semantic_type\": \"\",\n        \"description\": \"\"\n      }\n    },\n    {\n      \"column\": \"address\",\n      \"properties\": {\n        \"dtype\": \"category\",\n        \"num_unique_values\": 100,\n        \"samples\": [\n          \"WG69+M82, Tongging, Kec. Merek, Kabupaten Karo, Sumatera Utara 22173, Indonesia\",\n          \"83M7+RJ4, Napitupulu Bagasan, Kec. Balige, Toba, Sumatera Utara, Indonesia\",\n          \"Taman Eden, Ps. Lumban Julu, Kec. Lumban Julu, Toba, Sumatera Utara 22386, Indonesia\"\n        ],\n        \"semantic_type\": \"\",\n        \"description\": \"\"\n      }\n    },\n    {\n      \"column\": \"PlaceID\",\n      \"properties\": {\n        \"dtype\": \"number\",\n        \"std\": 28,\n        \"min\": 0,\n        \"max\": 101,\n        \"num_unique_values\": 102,\n        \"samples\": [\n          30,\n          67,\n          62\n        ],\n        \"semantic_type\": \"\",\n        \"description\": \"\"\n      }\n    },\n    {\n      \"column\": \"Nama_tempat_wisata\",\n      \"properties\": {\n        \"dtype\": \"category\",\n        \"num_unique_values\": 102,\n        \"samples\": [\n          \"Panatapan Tara Bunga\",\n          \"Pantai Indah Situngkir (PIS)\",\n          \"Pasar Tomok\"\n        ],\n        \"semantic_type\": \"\",\n        \"description\": \"\"\n      }\n    },\n    {\n      \"column\": \"Category\",\n      \"properties\": {\n        \"dtype\": \"category\",\n        \"num_unique_values\": 8,\n        \"samples\": [\n          \"Wisata Rohani\",\n          \"Wisata Sejarah\",\n          \"Wisata Bahari\"\n        ],\n        \"semantic_type\": \"\",\n        \"description\": \"\"\n      }\n    },\n    {\n      \"column\": \"ReviewerId\",\n      \"properties\": {\n        \"dtype\": \"number\",\n        \"std\": 5.343909672784782e+18,\n        \"min\": 1.00001e+20,\n        \"max\": 1.18446e+20,\n        \"num_unique_values\": 15011,\n        \"samples\": [\n          1.07312e+20,\n          1.03124e+20,\n          1.03245e+20\n        ],\n        \"semantic_type\": \"\",\n        \"description\": \"\"\n      }\n    },\n    {\n      \"column\": \"Rating\",\n      \"properties\": {\n        \"dtype\": \"number\",\n        \"std\": 0.9277599389462311,\n        \"min\": 1.0,\n        \"max\": 5.0,\n        \"num_unique_values\": 5,\n        \"samples\": [\n          2.0,\n          1.0,\n          3.0\n        ],\n        \"semantic_type\": \"\",\n        \"description\": \"\"\n      }\n    },\n    {\n      \"column\": \"Reviews\",\n      \"properties\": {\n        \"dtype\": \"category\",\n        \"num_unique_values\": 17992,\n        \"samples\": [\n          \"tidak ramah disabilitas tidak ada fasilitas pengguna kursi roda tidak ramah anak track berbatu cukup berbahaya\\narea parkir tidak bagus dengan biaya parkir rp10rb sangat tidak masuk akal\\nuntuk spot foto lumayan tidak lebih istimewa dibanding tempat lain di sekitar danau toba\",\n          \"keren kali buat nembak si polan cuy\\ud83d\\ude01\",\n          \"diterjemahkan oleh google bagus\\n\\nasli\\nnice\"\n        ],\n        \"semantic_type\": \"\",\n        \"description\": \"\"\n      }\n    },\n    {\n      \"column\": \"clean_reviews\",\n      \"properties\": {\n        \"dtype\": \"category\",\n        \"num_unique_values\": 17295,\n        \"samples\": [\n          \"mantap pertahankan kualitas danau toba\",\n          \"bersih pasirnya putih tp sayang akses jalan bagus\",\n          \"indah kunjungi sejuk hijau tenang udara segar smuanya disana\"\n        ],\n        \"semantic_type\": \"\",\n        \"description\": \"\"\n      }\n    }\n  ]\n}"
            }
          },
          "metadata": {},
          "execution_count": 2
        }
      ]
    },
    {
      "cell_type": "markdown",
      "source": [
        "# 3. Representasi Teks Menggunakan TF-IDF"
      ],
      "metadata": {
        "id": "ymPIvdYCMFuU"
      }
    },
    {
      "cell_type": "code",
      "source": [
        "# Vectorize reviews menggunakan TF-IDF\n",
        "tfidf = TfidfVectorizer(max_features=500)\n",
        "X = tfidf.fit_transform(data['clean_reviews'].fillna('')).toarray()\n",
        "\n",
        "# Rating di bawah 3 = negatif, 3 = netral, di atas 3 = positif\n",
        "data['sentiment_label'] = data['Rating'].apply(lambda x: 'positif' if x > 3 else ('negatif' if x < 3 else 'netral'))\n"
      ],
      "metadata": {
        "id": "U7T3b-BbMBo8"
      },
      "execution_count": null,
      "outputs": []
    },
    {
      "cell_type": "markdown",
      "source": [
        "# 4. Training Model Analisis Sentimen"
      ],
      "metadata": {
        "id": "9FdZPozBMT2b"
      }
    },
    {
      "cell_type": "code",
      "source": [
        "# Split data untuk pelatihan dan pengujian\n",
        "X_train, X_test, y_train, y_test = train_test_split(X, data['sentiment_label'], test_size=0.2, random_state=42)\n",
        "\n",
        "# Model analisis sentimen menggunakan Naive Bayes\n",
        "model = MultinomialNB()\n",
        "model.fit(X_train, y_train)\n",
        "\n",
        "# Prediksi sentimen\n",
        "predictions = model.predict(X_test)\n",
        "print(\"Laporan Klasifikasi:\\n\", classification_report(y_test, predictions))"
      ],
      "metadata": {
        "id": "Ig6IDmWUMQ8i",
        "colab": {
          "base_uri": "https://localhost:8080/"
        },
        "outputId": "d93fc782-e923-43fe-b886-890f4f4208d1"
      },
      "execution_count": null,
      "outputs": [
        {
          "output_type": "stream",
          "name": "stdout",
          "text": [
            "Laporan Klasifikasi:\n",
            "               precision    recall  f1-score   support\n",
            "\n",
            "     negatif       0.45      0.01      0.02       403\n",
            "      netral       0.29      0.01      0.01       634\n",
            "     positif       0.88      1.00      0.94      7609\n",
            "\n",
            "    accuracy                           0.88      8646\n",
            "   macro avg       0.54      0.34      0.32      8646\n",
            "weighted avg       0.82      0.88      0.83      8646\n",
            "\n"
          ]
        }
      ]
    },
    {
      "cell_type": "markdown",
      "source": [
        "# 5. Content-Based Filtering"
      ],
      "metadata": {
        "id": "oa5tUqJbxkXS"
      }
    },
    {
      "cell_type": "code",
      "source": [
        "# Menghitung kesamaan kosinus untuk ulasan\n",
        "cosine_sim = cosine_similarity(X, X)\n",
        "\n",
        "# Fungsi untuk merekomendasikan tempat wisata berdasarkan ulasan serupa\n",
        "def recommend_based_on_content(index, cosine_sim=cosine_sim):\n",
        "    sim_scores = list(enumerate(cosine_sim[index]))\n",
        "    sim_scores = sorted(sim_scores, key=lambda x: x[1], reverse=True)\n",
        "    sim_scores = sim_scores[1:6]  # Ambil 5 rekomendasi teratas\n",
        "\n",
        "    recommended_indices = [i[0] for i in sim_scores]\n",
        "    return data.iloc[recommended_indices][['Nama_tempat_wisata', 'Rating', 'clean_reviews']]\n",
        "\n",
        "print(\"Rekomendasi Berdasarkan Ulasan Serupa:\")\n",
        "recommend_based_on_content(0)"
      ],
      "metadata": {
        "id": "csqs5Yy1MV8H"
      },
      "execution_count": null,
      "outputs": []
    },
    {
      "cell_type": "markdown",
      "source": [
        "# 6. Collaborative Filtering (Sederhana)"
      ],
      "metadata": {
        "id": "o9X1woOMyDwE"
      }
    },
    {
      "cell_type": "code",
      "source": [
        "# Pastikan kolom ReviewerId diubah menjadi string\n",
        "data['ReviewerId'] = data['ReviewerId'].astype(str)\n",
        "\n",
        "# Pivot tabel untuk collaborative filtering\n",
        "user_item_matrix = data.pivot_table(index='ReviewerId', columns='Nama_tempat_wisata', values='Rating')\n",
        "\n",
        "# Normalisasi data dengan mengurangi rata-rata pengguna\n",
        "user_item_matrix_normalized = user_item_matrix.sub(user_item_matrix.mean(axis=1), axis=0)\n",
        "\n",
        "# Fungsi untuk rekomendasi berbasis collaborative filtering sederhana\n",
        "def collaborative_recommendation(user_id, user_item_matrix=user_item_matrix):\n",
        "    if str(user_id) not in user_item_matrix.index:\n",
        "        print(f\"User ID {user_id} tidak ditemukan.\")\n",
        "        return None\n",
        "\n",
        "    user_ratings = user_item_matrix.loc[str(user_id)].dropna()\n",
        "    similar_users = user_item_matrix.corrwith(user_ratings)\n",
        "    similar_users = similar_users.sort_values(ascending=False).dropna()\n",
        "    return similar_users.head(5)\n",
        "\n",
        "input_user_id = '1.07886e+20'\n",
        "print(\"Rekomendasi Berdasarkan Collaborative Filtering:\")\n",
        "collaborative_recommendation(input_user_id)"
      ],
      "metadata": {
        "id": "hEgvuzl5yAmC"
      },
      "execution_count": null,
      "outputs": []
    },
    {
      "cell_type": "markdown",
      "source": [
        "# 7. Penggabungan Hybrid"
      ],
      "metadata": {
        "id": "NM2cErW_yJhr"
      }
    },
    {
      "cell_type": "code",
      "source": [
        "# Fungsi kombinasi sederhana dari hasil content-based dan collaborative filtering\n",
        "def hybrid_recommendation(index, user_id):\n",
        "    content_recommendations = recommend_based_on_content(index)\n",
        "\n",
        "    # Panggil collaborative filtering hanya jika user_id ditemukan\n",
        "    collab_recommendations = collaborative_recommendation(user_id)\n",
        "    if collab_recommendations is None:\n",
        "        print(\"Rekomendasi Collaborative Filtering tidak tersedia untuk user ini.\")\n",
        "        return content_recommendations.head(5)  # Tampilkan hanya rekomendasi berbasis konten jika CF gagal\n",
        "\n",
        "    # Gabungkan hasil content-based dan collaborative filtering\n",
        "    hybrid_recommendations = pd.merge(content_recommendations, collab_recommendations, left_index=True, right_index=True, how='outer')\n",
        "    return hybrid_recommendations.head(5)\n",
        "\n",
        "# Contoh penggunaan\n",
        "print(\"Rekomendasi Hybrid:\")\n",
        "hybrid_recommendation(0, '1.00003e+20')"
      ],
      "metadata": {
        "id": "0Qb_JcfGyLyC"
      },
      "execution_count": null,
      "outputs": []
    },
    {
      "cell_type": "markdown",
      "source": [
        "# 8. Menghitung Metrik Evaluasi"
      ],
      "metadata": {
        "id": "5664Xrf6yYK5"
      }
    },
    {
      "cell_type": "code",
      "source": [
        "from sklearn.metrics import mean_absolute_error, mean_squared_error\n",
        "import numpy as np\n",
        "\n",
        "# Fungsi untuk menghitung RMSE\n",
        "def calculate_rmse(y_true, y_pred):\n",
        "    rmse = np.sqrt(mean_squared_error(y_true, y_pred))\n",
        "    return rmse\n",
        "\n",
        "# Fungsi untuk menghitung MAE\n",
        "def calculate_mae(y_true, y_pred):\n",
        "    mae = mean_absolute_error(y_true, y_pred)\n",
        "    return mae\n",
        "\n",
        "# Contoh penggunaan dengan data rating sebenarnya dan prediksi\n",
        "actual_ratings = [4, 3, 5, 2, 5]  # Rating sebenarnya\n",
        "predicted_ratings = [3.5, 3, 4.5, 2, 4.8]  # Rating yang diprediksi\n",
        "\n",
        "# Hitung RMSE dan MAE\n",
        "rmse = calculate_rmse(actual_ratings, predicted_ratings)\n",
        "mae = calculate_mae(actual_ratings, predicted_ratings)\n",
        "\n",
        "print(\"RMSE:\", rmse)\n",
        "print(\"MAE:\", mae)"
      ],
      "metadata": {
        "id": "cpxRg67_yfCB"
      },
      "execution_count": null,
      "outputs": []
    },
    {
      "cell_type": "markdown",
      "source": [
        "# 9. Mengukur Precision, Recall, dan F1-Score"
      ],
      "metadata": {
        "id": "ev7QpKPJyi3b"
      }
    },
    {
      "cell_type": "code",
      "source": [
        "from sklearn.metrics import precision_score, recall_score, f1_score\n",
        "\n",
        "true_labels = [1, 0, 1, 1, 0]  # 1 menunjukkan item relevan, 0 tidak relevan\n",
        "predicted_labels = [1, 0, 1, 0, 0]  # Prediksi model\n",
        "\n",
        "precision = precision_score(true_labels, predicted_labels)\n",
        "recall = recall_score(true_labels, predicted_labels)\n",
        "f1 = f1_score(true_labels, predicted_labels)\n",
        "\n",
        "print(\"Precision:\", precision)\n",
        "print(\"Recall:\", recall)\n",
        "print(\"F1-Score:\", f1)"
      ],
      "metadata": {
        "id": "cU34Dsccylel"
      },
      "execution_count": null,
      "outputs": []
    },
    {
      "cell_type": "markdown",
      "source": [
        "# 10. Evaluasi Khusus untuk Rekomendasi: MAP@K dan Hit Rate\n"
      ],
      "metadata": {
        "id": "7zFmRT9RywFA"
      }
    },
    {
      "cell_type": "code",
      "source": [
        "def mean_average_precision_at_k(y_true, y_pred, k=10):\n",
        "    \"\"\"\n",
        "    Menghitung MAP@K untuk daftar rekomendasi.\n",
        "    y_true: daftar item relevan\n",
        "    y_pred: daftar rekomendasi model\n",
        "    k: panjang daftar rekomendasi\n",
        "    \"\"\"\n",
        "    y_pred = y_pred[:k]\n",
        "    score = 0.0\n",
        "    num_hits = 0.0\n",
        "    for i, p in enumerate(y_pred):\n",
        "        if p in y_true and p not in y_pred[:i]:  # Pastikan item belum dihitung sebelumnya\n",
        "            num_hits += 1.0\n",
        "            score += num_hits / (i + 1.0)\n",
        "    return score / min(len(y_true), k)\n",
        "\n",
        "# Contoh penggunaan\n",
        "actual_items = [101, 102, 103, 104]  # Item yang relevan\n",
        "predicted_items = [101, 105, 106, 102, 104, 108, 110]  # Rekomendasi model\n",
        "\n",
        "mapk_score = mean_average_precision_at_k(actual_items, predicted_items, k=5)\n",
        "print(\"MAP@K:\", mapk_score)"
      ],
      "metadata": {
        "id": "tdpHYnZZyx79"
      },
      "execution_count": null,
      "outputs": []
    },
    {
      "cell_type": "code",
      "source": [
        "import matplotlib.pyplot as plt\n",
        "import numpy as np\n",
        "\n",
        "# Data Hybrid Recommender System\n",
        "metrics = ['RMSE', 'MAE', 'Precision', 'Recall', 'MAP']\n",
        "values = [0.33, 0.24, 1.0, 0.67, 0.525]\n",
        "\n",
        "# Membuat diagram batang\n",
        "plt.figure(figsize=(8, 6))\n",
        "bars = plt.bar(metrics, values, color=['blue', 'orange', 'green', 'red', 'purple'])\n",
        "\n",
        "# Menambahkan nilai pada setiap batang\n",
        "for bar in bars:\n",
        "    yval = bar.get_height()\n",
        "    plt.text(bar.get_x() + bar.get_width() / 2.0, yval + 0.02, f'{yval:.2f}', ha='center', fontsize=10)\n",
        "\n",
        "# Menambahkan label dan judul\n",
        "plt.title('Performance Metrics for Hybrid Recommender System', fontsize=14)\n",
        "plt.xlabel('Metrics', fontsize=12)\n",
        "plt.ylabel('Values', fontsize=12)\n",
        "plt.ylim(0, 1.2)  # Set batas sumbu Y agar precision (1.0) terlihat jelas\n",
        "\n",
        "# Menampilkan diagram\n",
        "plt.grid(axis='y', linestyle='--', alpha=0.7)\n",
        "plt.show()\n"
      ],
      "metadata": {
        "id": "4fGKlX4twjFz"
      },
      "execution_count": null,
      "outputs": []
    },
    {
      "cell_type": "code",
      "source": [],
      "metadata": {
        "id": "9d2XPay3wHqK"
      },
      "execution_count": null,
      "outputs": []
    }
  ]
}