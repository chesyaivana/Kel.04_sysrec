{
  "nbformat": 4,
  "nbformat_minor": 0,
  "metadata": {
    "colab": {
      "provenance": [],
      "gpuType": "T4",
      "authorship_tag": "ABX9TyORb+ZqDD/MHcl97NU18dSG",
      "include_colab_link": true
    },
    "kernelspec": {
      "name": "python3",
      "display_name": "Python 3"
    },
    "language_info": {
      "name": "python"
    },
    "accelerator": "GPU"
  },
  "cells": [
    {
      "cell_type": "markdown",
      "metadata": {
        "id": "view-in-github",
        "colab_type": "text"
      },
      "source": [
        "<a href=\"https://colab.research.google.com/github/chesyaivana/Kel.04_sysrec/blob/main/CNN.ipynb\" target=\"_parent\"><img src=\"https://colab.research.google.com/assets/colab-badge.svg\" alt=\"Open In Colab\"/></a>"
      ]
    },
    {
      "cell_type": "markdown",
      "source": [
        "# 1.  Load and Preprocess Data\n",
        "mengimpor semua library yang diperlukan untuk analisis sentimen. Library seperti pandas, numpy, dan matplotlib digunakan untuk manipulasi data dan visualisasi. Library Keras digunakan untuk membangun model CNN. nltk digunakan untuk preprocessing teks, termasuk penghapusan stopword."
      ],
      "metadata": {
        "id": "-hF2X_FP1Nvq"
      }
    },
    {
      "cell_type": "code",
      "execution_count": null,
      "metadata": {
        "id": "4w1cITqvw8X7",
        "colab": {
          "base_uri": "https://localhost:8080/"
        },
        "outputId": "f617767d-12c4-486f-f2b8-152c5f13d17d"
      },
      "outputs": [
        {
          "output_type": "stream",
          "name": "stderr",
          "text": [
            "[nltk_data] Downloading package stopwords to /root/nltk_data...\n",
            "[nltk_data]   Unzipping corpora/stopwords.zip.\n"
          ]
        }
      ],
      "source": [
        "import pandas as pd\n",
        "import numpy as np\n",
        "import matplotlib.pyplot as plt\n",
        "from keras.models import Sequential\n",
        "from keras.layers import Dense, Embedding, Conv1D, GlobalMaxPooling1D, Dropout\n",
        "from tensorflow.keras.preprocessing.text import Tokenizer\n",
        "from tensorflow.keras.preprocessing.sequence import pad_sequences\n",
        "from sklearn.model_selection import train_test_split\n",
        "from keras.utils import to_categorical\n",
        "from sklearn.preprocessing import LabelEncoder\n",
        "import nltk\n",
        "from nltk.corpus import stopwords\n",
        "import re\n",
        "nltk.download('stopwords')\n",
        "\n",
        "stop_words = set(stopwords.words('indonesian'))"
      ]
    },
    {
      "cell_type": "markdown",
      "source": [
        "memuat dataset, membersihkan kolom yang tidak relevan, menghapus entri NaN pada kolom Reviews, dan memproses teks dengan fungsi preprocess_text yang membersihkan teks dari karakter khusus, mengubahnya menjadi huruf kecil, serta menghapus stopword."
      ],
      "metadata": {
        "id": "USTfMsr3pk_9"
      }
    },
    {
      "cell_type": "code",
      "source": [
        "# Load dataset\n",
        "data = pd.read_csv('Tempat-Wisata-Toba-Preprocessing.csv')"
      ],
      "metadata": {
        "id": "sr7BaNLQ0ulc"
      },
      "execution_count": null,
      "outputs": []
    },
    {
      "cell_type": "code",
      "source": [
        "# Drop unnecessary columns\n",
        "data = data.drop(['Unnamed: 0.1', 'Unnamed: 0', 'PlaceID'], axis=1)"
      ],
      "metadata": {
        "id": "VXzOxV-5EvM_"
      },
      "execution_count": null,
      "outputs": []
    },
    {
      "cell_type": "code",
      "source": [
        "# Handle missing values\n",
        "data = data.dropna(subset=['Reviews'])"
      ],
      "metadata": {
        "id": "iFcZNh491DCO"
      },
      "execution_count": null,
      "outputs": []
    },
    {
      "cell_type": "code",
      "source": [
        "# Text preprocessing function\n",
        "def preprocess_text(text):\n",
        "    text = re.sub(r'[^a-zA-Z\\s]', '', str(text).lower())  # Remove special characters and convert to lowercase\n",
        "    tokens = text.split()\n",
        "    tokens = [word for word in tokens if word not in stop_words]  # Remove stopwords\n",
        "    return ' '.join(tokens)"
      ],
      "metadata": {
        "id": "jKO3yPPiE16J"
      },
      "execution_count": null,
      "outputs": []
    },
    {
      "cell_type": "code",
      "source": [
        "# Apply preprocessing\n",
        "data['Reviews'] = data['Reviews'].apply(preprocess_text)"
      ],
      "metadata": {
        "id": "dP78R3OwE4ai"
      },
      "execution_count": null,
      "outputs": []
    },
    {
      "cell_type": "markdown",
      "source": [
        "# 2. Label Encoding\n"
      ],
      "metadata": {
        "id": "W7VYb2MM1BBp"
      }
    },
    {
      "cell_type": "markdown",
      "source": [
        "mengubah kolom Rating menjadi label sentimen (positif, netral, negatif) berdasarkan skala rating. LabelEncoder digunakan untuk mengonversi label sentimen menjadi angka, dan to_categorical mengubah label tersebut menjadi representasi one-hot untuk digunakan dalam pelatihan model."
      ],
      "metadata": {
        "id": "3itSb78Ypv6p"
      }
    },
    {
      "cell_type": "code",
      "source": [
        "# Label encoding for sentiment (you might need to manually classify the sentiment)\n",
        "data['Sentiment'] = data['Rating'].apply(lambda x: 'positive' if x >= 4 else ('neutral' if x == 3 else 'negative'))\n",
        "label_encoder = LabelEncoder()\n",
        "data['Sentiment'] = label_encoder.fit_transform(data['Sentiment'])"
      ],
      "metadata": {
        "id": "zsxVo__L1EOE"
      },
      "execution_count": null,
      "outputs": []
    },
    {
      "cell_type": "code",
      "source": [
        "# One-hot encoding for the target variable\n",
        "y = to_categorical(data['Sentiment'])"
      ],
      "metadata": {
        "id": "xUPnguIGFDaq"
      },
      "execution_count": null,
      "outputs": []
    },
    {
      "cell_type": "markdown",
      "source": [
        "# 3. Tokenization and Padding"
      ],
      "metadata": {
        "id": "RZU9ZOVS2Qxu"
      }
    },
    {
      "cell_type": "markdown",
      "source": [
        "menggunakan Tokenizer untuk mengubah teks menjadi urutan angka, di mana setiap angka merepresentasikan kata. Data kemudian diubah menjadi urutan dengan panjang yang seragam menggunakan pad_sequences agar dapat diproses oleh CNN."
      ],
      "metadata": {
        "id": "9pQjIxhgp1kF"
      }
    },
    {
      "cell_type": "code",
      "source": [
        "max_words = 5000\n",
        "max_len = 100\n",
        "\n",
        "tokenizer = Tokenizer(num_words=max_words, oov_token='<OOV>')\n",
        "tokenizer.fit_on_texts(data['Reviews'])\n",
        "sequences = tokenizer.texts_to_sequences(data['Reviews'])\n",
        "padded_sequences = pad_sequences(sequences, maxlen=max_len, padding='post')"
      ],
      "metadata": {
        "id": "93Bpf7no1GlB"
      },
      "execution_count": null,
      "outputs": []
    },
    {
      "cell_type": "markdown",
      "source": [
        "# 4. Split Data"
      ],
      "metadata": {
        "id": "ekeHM1AO2YP-"
      }
    },
    {
      "cell_type": "markdown",
      "source": [
        "membagi data ke dalam set pelatihan (80%) dan set pengujian (20%) untuk memastikan model diuji dengan data yang tidak terlihat selama pelatihan."
      ],
      "metadata": {
        "id": "QLeGqMFZp5fW"
      }
    },
    {
      "cell_type": "code",
      "source": [
        "# Setup Training and Testing Data\n",
        "X_train, X_test, y_train, y_test = train_test_split(padded_sequences, y, test_size=0.2, random_state=42)"
      ],
      "metadata": {
        "id": "WWxrcNDU1I-c"
      },
      "execution_count": null,
      "outputs": []
    },
    {
      "cell_type": "markdown",
      "source": [
        "# 5. Model CNN"
      ],
      "metadata": {
        "id": "Bi861ed2FbYz"
      }
    },
    {
      "cell_type": "markdown",
      "source": [
        "mendefinisikan arsitektur CNN dengan Embedding layer untuk mengonversi kata ke vektor numerik, Conv1D untuk ekstraksi fitur, GlobalMaxPooling1D untuk pengurangan dimensi, dan Dense layer untuk klasifikasi. Model dikompilasi dengan adam optimizer dan dilatih menggunakan data training."
      ],
      "metadata": {
        "id": "72fV_2PmqCjj"
      }
    },
    {
      "cell_type": "code",
      "source": [
        "model = Sequential()\n",
        "model.add(Embedding(input_dim=max_words, output_dim=128, input_length=max_len))\n",
        "model.add(Conv1D(filters=128, kernel_size=5, activation='relu'))\n",
        "model.add(GlobalMaxPooling1D())\n",
        "model.add(Dense(64, activation='relu'))\n",
        "model.add(Dropout(0.5))\n",
        "model.add(Dense(3, activation='softmax'))"
      ],
      "metadata": {
        "colab": {
          "base_uri": "https://localhost:8080/"
        },
        "id": "utl3SWl0Fa7M",
        "outputId": "41070a71-c760-4b73-bd58-d12f5b3ab6a8"
      },
      "execution_count": null,
      "outputs": [
        {
          "output_type": "stream",
          "name": "stderr",
          "text": [
            "/usr/local/lib/python3.10/dist-packages/keras/src/layers/core/embedding.py:90: UserWarning: Argument `input_length` is deprecated. Just remove it.\n",
            "  warnings.warn(\n"
          ]
        }
      ]
    },
    {
      "cell_type": "code",
      "source": [
        "# Compile model\n",
        "model.compile(optimizer='adam', loss='categorical_crossentropy', metrics=['accuracy'])"
      ],
      "metadata": {
        "id": "QmtPDQsIFiu9"
      },
      "execution_count": null,
      "outputs": []
    },
    {
      "cell_type": "code",
      "source": [
        "# Train model\n",
        "history = model.fit(X_train, y_train, epochs=10, batch_size=32, validation_split=0.2, verbose=2)"
      ],
      "metadata": {
        "colab": {
          "base_uri": "https://localhost:8080/"
        },
        "id": "1P_uymkkFle8",
        "outputId": "51ea1790-b097-4fc0-c4bb-174c7bfd4d1c"
      },
      "execution_count": null,
      "outputs": [
        {
          "output_type": "stream",
          "name": "stdout",
          "text": [
            "Epoch 1/10\n",
            "444/444 - 9s - 21ms/step - accuracy: 0.8823 - loss: 0.4414 - val_accuracy: 0.8836 - val_loss: 0.3828\n",
            "Epoch 2/10\n",
            "444/444 - 3s - 7ms/step - accuracy: 0.8848 - loss: 0.3511 - val_accuracy: 0.8833 - val_loss: 0.3890\n",
            "Epoch 3/10\n",
            "444/444 - 1s - 2ms/step - accuracy: 0.9017 - loss: 0.2854 - val_accuracy: 0.8748 - val_loss: 0.4038\n",
            "Epoch 4/10\n",
            "444/444 - 1s - 3ms/step - accuracy: 0.9249 - loss: 0.2256 - val_accuracy: 0.8559 - val_loss: 0.4780\n",
            "Epoch 5/10\n",
            "444/444 - 1s - 3ms/step - accuracy: 0.9464 - loss: 0.1786 - val_accuracy: 0.8472 - val_loss: 0.5651\n",
            "Epoch 6/10\n",
            "444/444 - 2s - 3ms/step - accuracy: 0.9556 - loss: 0.1495 - val_accuracy: 0.8463 - val_loss: 0.6717\n",
            "Epoch 7/10\n",
            "444/444 - 1s - 3ms/step - accuracy: 0.9626 - loss: 0.1313 - val_accuracy: 0.8542 - val_loss: 0.7224\n",
            "Epoch 8/10\n",
            "444/444 - 1s - 2ms/step - accuracy: 0.9657 - loss: 0.1174 - val_accuracy: 0.8562 - val_loss: 0.8254\n",
            "Epoch 9/10\n",
            "444/444 - 1s - 2ms/step - accuracy: 0.9679 - loss: 0.1138 - val_accuracy: 0.8582 - val_loss: 0.8277\n",
            "Epoch 10/10\n",
            "444/444 - 1s - 3ms/step - accuracy: 0.9705 - loss: 0.1055 - val_accuracy: 0.8489 - val_loss: 0.9143\n"
          ]
        }
      ]
    },
    {
      "cell_type": "markdown",
      "source": [
        "# 6. Evaluasi"
      ],
      "metadata": {
        "id": "IoVEGYyx2ySR"
      }
    },
    {
      "cell_type": "markdown",
      "source": [
        "mengevaluasi performa model pada data pengujian dan menampilkan akurasi. Plot kurva akurasi ditampilkan untuk memantau kinerja model selama pelatihan dan validasi."
      ],
      "metadata": {
        "id": "0WhEn_bBqG2p"
      }
    },
    {
      "cell_type": "code",
      "source": [
        "# Evaluate on test data\n",
        "loss, accuracy = model.evaluate(X_test, y_test, verbose=0)\n",
        "print(f'Test Accuracy: {accuracy:.2f}')"
      ],
      "metadata": {
        "colab": {
          "base_uri": "https://localhost:8080/"
        },
        "id": "aDLy6Df9Fxmr",
        "outputId": "2c1ad0d5-51e8-47a3-f015-958d4642c7f4"
      },
      "execution_count": null,
      "outputs": [
        {
          "output_type": "stream",
          "name": "stdout",
          "text": [
            "Test Accuracy: 0.86\n"
          ]
        }
      ]
    },
    {
      "cell_type": "code",
      "source": [
        "# Plot training history\n",
        "plt.plot(history.history['accuracy'], label='Train Accuracy')\n",
        "plt.plot(history.history['val_accuracy'], label='Validation Accuracy')\n",
        "plt.xlabel('Epochs')\n",
        "plt.ylabel('Accuracy')\n",
        "plt.legend()\n",
        "plt.show()"
      ],
      "metadata": {
        "colab": {
          "base_uri": "https://localhost:8080/",
          "height": 449
        },
        "id": "U6rNo4It1LEV",
        "outputId": "985fd718-a09d-4dba-cc42-418e5e6c3034"
      },
      "execution_count": null,
      "outputs": [
        {
          "output_type": "display_data",
          "data": {
            "text/plain": [
              "<Figure size 640x480 with 1 Axes>"
            ],
            "image/png": "[encoded data removed]"
          },
          "metadata": {}
        }
      ]
    },
    {
      "cell_type": "markdown",
      "source": [
        "#"
      ],
      "metadata": {
        "id": "HgE4pfEFF4jI"
      }
    },
    {
      "cell_type": "markdown",
      "source": [
        "# 7. Prediksi Sentimen"
      ],
      "metadata": {
        "id": "HJPPcVZaF4do"
      }
    },
    {
      "cell_type": "markdown",
      "source": [
        "memprediksi sentimen dari data ulasan baru. Ulasan diubah menjadi urutan angka dan diproses ke dalam model untuk menghasilkan prediksi. Hasil prediksi dikonversi kembali ke label sentimen yang sesuai (positif, netral, negatif) dan dicetak bersama ulasan."
      ],
      "metadata": {
        "id": "PfSRH2p1qL--"
      }
    },
    {
      "cell_type": "code",
      "source": [
        "# Predict sentiment on new data\n",
        "new_reviews = [\"Tempatnya sangat indah dan menyenangkan\", \"Kurang memuaskan, tidak sesuai ekspektasi\"]\n",
        "new_sequences = tokenizer.texts_to_sequences(new_reviews)\n",
        "new_padded = pad_sequences(new_sequences, maxlen=max_len, padding='post')\n",
        "predictions = model.predict(new_padded)\n",
        "predicted_classes = np.argmax(predictions, axis=1)"
      ],
      "metadata": {
        "colab": {
          "base_uri": "https://localhost:8080/"
        },
        "id": "P3OP7oKtGDLT",
        "outputId": "733aca91-7460-4558-aed4-37fe15cdcb15"
      },
      "execution_count": null,
      "outputs": [
        {
          "output_type": "stream",
          "name": "stdout",
          "text": [
            "\u001b[1m1/1\u001b[0m \u001b[32m━━━━━━━━━━━━━━━━━━━━\u001b[0m\u001b[37m\u001b[0m \u001b[1m0s\u001b[0m 356ms/step\n"
          ]
        }
      ]
    },
    {
      "cell_type": "code",
      "source": [
        "# Decode predicted classes\n",
        "predicted_sentiments = label_encoder.inverse_transform(predicted_classes)\n",
        "for review, sentiment in zip(new_reviews, predicted_sentiments):\n",
        "    print(f\"Review: {review} -> Sentiment: {sentiment}\")"
      ],
      "metadata": {
        "colab": {
          "base_uri": "https://localhost:8080/"
        },
        "id": "bAr6YwoDGIEo",
        "outputId": "0278315a-3513-4b38-ca27-81767d57f02d"
      },
      "execution_count": null,
      "outputs": [
        {
          "output_type": "stream",
          "name": "stdout",
          "text": [
            "Review: Tempatnya sangat indah dan menyenangkan -> Sentiment: positive\n",
            "Review: Kurang memuaskan, tidak sesuai ekspektasi -> Sentiment: negative\n"
          ]
        }
      ]
    },
    {
      "cell_type": "code",
      "source": [
        "# Display the distribution of sentiment in a table format\n",
        "sentiment_counts = pd.Series(predicted_sentiments).value_counts().reset_index()\n",
        "sentiment_counts.columns = ['Sentiment', 'Count']\n",
        "print(sentiment_counts)"
      ],
      "metadata": {
        "colab": {
          "base_uri": "https://localhost:8080/"
        },
        "id": "ddTPMF-0q0Gk",
        "outputId": "e4e0ad8c-a7e0-4a03-8248-4db7b06b231f"
      },
      "execution_count": null,
      "outputs": [
        {
          "output_type": "stream",
          "name": "stdout",
          "text": [
            "  Sentiment  Count\n",
            "0  positive      1\n",
            "1  negative      1\n"
          ]
        }
      ]
    },
    {
      "cell_type": "markdown",
      "source": [
        "RMSE & MAE"
      ],
      "metadata": {
        "id": "olIcfaIq3uRw"
      }
    },
    {
      "cell_type": "code",
      "source": [
        "from sklearn.metrics import mean_squared_error, mean_absolute_error\n",
        "import numpy as np\n",
        "\n",
        "# Prediksi pada data testing\n",
        "y_pred_probs = model.predict(X_test)\n",
        "y_pred_classes = np.argmax(y_pred_probs, axis=1)\n",
        "y_true_classes = np.argmax(y_test, axis=1)\n",
        "\n",
        "# Menghitung MAE dan RMSE\n",
        "mae = mean_absolute_error(y_true_classes, y_pred_classes)\n",
        "rmse = np.sqrt(mean_squared_error(y_true_classes, y_pred_classes))\n",
        "\n",
        "print(f'MAE: {mae:.2f}')\n",
        "print(f'RMSE: {rmse:.2f}')"
      ],
      "metadata": {
        "id": "T8PzarMh3a1v",
        "colab": {
          "base_uri": "https://localhost:8080/"
        },
        "outputId": "c38a1946-e014-4a9a-be10-725868f4c230"
      },
      "execution_count": null,
      "outputs": [
        {
          "output_type": "stream",
          "name": "stdout",
          "text": [
            "\u001b[1m139/139\u001b[0m \u001b[32m━━━━━━━━━━━━━━━━━━━━\u001b[0m\u001b[37m\u001b[0m \u001b[1m1s\u001b[0m 4ms/step\n",
            "MAE: 0.17\n",
            "RMSE: 0.49\n"
          ]
        }
      ]
    },
    {
      "cell_type": "markdown",
      "source": [
        "# Precision, Recall, dan MAP"
      ],
      "metadata": {
        "id": "FPX0FfGV3r3P"
      }
    },
    {
      "cell_type": "code",
      "source": [
        "from sklearn.metrics import precision_score, recall_score, average_precision_score\n",
        "\n",
        "# Precision dan Recall\n",
        "precision = precision_score(y_true_classes, y_pred_classes, average='weighted')\n",
        "recall = recall_score(y_true_classes, y_pred_classes, average='weighted')\n",
        "\n",
        "# Mean Average Precision (MAP)\n",
        "map_score = average_precision_score(y_test, y_pred_probs, average='weighted')\n",
        "\n",
        "print(f'Precision: {precision:.2f}')\n",
        "print(f'Recall: {recall:.2f}')\n",
        "print(f'MAP: {map_score:.2f}')"
      ],
      "metadata": {
        "id": "w3hOCjI0GXuD",
        "outputId": "058b4d4e-637a-40b9-d1bb-a0936221ea52",
        "colab": {
          "base_uri": "https://localhost:8080/"
        }
      },
      "execution_count": null,
      "outputs": [
        {
          "output_type": "stream",
          "name": "stdout",
          "text": [
            "Precision: 0.83\n",
            "Recall: 0.86\n",
            "MAP: 0.84\n"
          ]
        }
      ]
    },
    {
      "cell_type": "code",
      "source": [
        "import matplotlib.pyplot as plt\n",
        "import numpy as np\n",
        "\n",
        "# Data Hybrid Recommender System\n",
        "metrics = ['RMSE', 'MAE', 'Precision', 'Recall', 'MAP']\n",
        "values = [0.17, 0.49, 0.83, 0.86, 0.84]\n",
        "\n",
        "# Membuat diagram batang\n",
        "plt.figure(figsize=(8, 6))\n",
        "bars = plt.bar(metrics, values, color=['blue', 'orange', 'green', 'red', 'purple'])\n",
        "\n",
        "# Menambahkan nilai pada setiap batang\n",
        "for bar in bars:\n",
        "    yval = bar.get_height()\n",
        "    plt.text(bar.get_x() + bar.get_width() / 2.0, yval + 0.02, f'{yval:.2f}', ha='center', fontsize=10)\n",
        "\n",
        "# Menambahkan label dan judul\n",
        "plt.title('Performance Metrics for Hybrid Recommender System', fontsize=14)\n",
        "plt.xlabel('Metrics', fontsize=12)\n",
        "plt.ylabel('Values', fontsize=12)\n",
        "plt.ylim(0, 1.2)  # Set batas sumbu Y agar precision (1.0) terlihat jelas\n",
        "\n",
        "# Menampilkan diagram\n",
        "plt.grid(axis='y', linestyle='--', alpha=0.7)\n",
        "plt.show()"
      ],
      "metadata": {
        "colab": {
          "base_uri": "https://localhost:8080/",
          "height": 569
        },
        "id": "YoHS9Ba9sa-c",
        "outputId": "b9c8761a-eb1f-4027-de0f-6bcedbc5a5cf"
      },
      "execution_count": null,
      "outputs": [
        {
          "output_type": "display_data",
          "data": {
            "text/plain": [
              "<Figure size 800x600 with 1 Axes>"
            ],
            "image/png": "[encoded data removed]"
          },
          "metadata": {}
        }
      ]
    },
    {
      "cell_type": "code",
      "source": [],
      "metadata": {
        "id": "Jevf2MdkwiNP"
      },
      "execution_count": null,
      "outputs": []
    }
  ]
}