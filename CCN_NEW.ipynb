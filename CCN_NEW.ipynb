{
  "cells": [
    {
      "cell_type": "markdown",
      "metadata": {
        "id": "view-in-github",
        "colab_type": "text"
      },
      "source": [
        "<a href=\"https://colab.research.google.com/github/chesyaivana/Kel.04_sysrec/blob/main/CCN_NEW.ipynb\" target=\"_parent\"><img src=\"https://colab.research.google.com/assets/colab-badge.svg\" alt=\"Open In Colab\"/></a>"
      ]
    },
    {
      "cell_type": "markdown",
      "metadata": {
        "id": "-hF2X_FP1Nvq"
      },
      "source": [
        "# 1.  Load and Preprocess Data\n",
        "mengimpor semua library yang diperlukan untuk analisis sentimen. Library seperti pandas, numpy, dan matplotlib digunakan untuk manipulasi data dan visualisasi. Library Keras digunakan untuk membangun model CNN. nltk digunakan untuk preprocessing teks, termasuk penghapusan stopword."
      ]
    },
    {
      "cell_type": "code",
      "execution_count": null,
      "metadata": {
        "id": "4w1cITqvw8X7"
      },
      "outputs": [],
      "source": [
        "import pandas as pd\n",
        "import numpy as np\n",
        "import re\n",
        "from sklearn.model_selection import train_test_split\n",
        "from tensorflow.keras.preprocessing.text import Tokenizer\n",
        "from tensorflow.keras.preprocessing.sequence import pad_sequences\n",
        "from sklearn.preprocessing import LabelEncoder\n",
        "from keras.utils import to_categorical\n",
        "import nltk\n",
        "from nltk.corpus import stopwords"
      ]
    },
    {
      "cell_type": "markdown",
      "metadata": {
        "id": "USTfMsr3pk_9"
      },
      "source": [
        "memuat dataset, membersihkan kolom yang tidak relevan, menghapus entri NaN pada kolom Reviews, dan memproses teks dengan fungsi preprocess_text yang membersihkan teks dari karakter khusus, mengubahnya menjadi huruf kecil, serta menghapus stopword."
      ]
    },
    {
      "cell_type": "code",
      "execution_count": null,
      "metadata": {
        "id": "sr7BaNLQ0ulc"
      },
      "outputs": [],
      "source": [
        "# Load dataset\n",
        "# Load and preprocess the data\n",
        "data = pd.read_csv(\"Tempat-Wisata-Toba-Preprocessing.csv\")\n",
        "# Rename and preprocess columns\n",
        "data = data.rename(columns={'ReviewerId': 'user_id', 'PlaceID': 'item_id', 'Rating': 'rating'})\n",
        "data['user_id'] = data['user_id'].astype(str)\n",
        "data['item_id'] = data['item_id'].astype(str)\n",
        "data['rating'] = data['rating'].astype(float)\n",
        "\n",
        "# Drop irrelevant columns\n",
        "data = data.drop(['Unnamed: 0.1', 'Unnamed: 0'], axis=1)\n",
        "data.dropna(inplace=True)"
      ]
    },
    {
      "cell_type": "code",
      "source": [
        "# Download stopwords for preprocessing\n",
        "nltk.download('stopwords')\n",
        "stop_words = set(stopwords.words('indonesian'))"
      ],
      "metadata": {
        "colab": {
          "base_uri": "https://localhost:8080/"
        },
        "id": "gZRbHUBImybH",
        "outputId": "72b66cd9-1351-41c4-edab-a7cbf7a3a63b"
      },
      "execution_count": null,
      "outputs": [
        {
          "output_type": "stream",
          "name": "stderr",
          "text": [
            "[nltk_data] Downloading package stopwords to /root/nltk_data...\n",
            "[nltk_data]   Package stopwords is already up-to-date!\n"
          ]
        }
      ]
    },
    {
      "cell_type": "code",
      "execution_count": null,
      "metadata": {
        "id": "jKO3yPPiE16J"
      },
      "outputs": [],
      "source": [
        "# Text preprocessing\n",
        "def preprocess_text(text):\n",
        "    text = re.sub(r'[^a-zA-Z\\s]', '', str(text).lower())\n",
        "    tokens = text.split()\n",
        "    tokens = [word for word in tokens if word not in stop_words]\n",
        "    return ' '.join(tokens)"
      ]
    },
    {
      "cell_type": "code",
      "execution_count": null,
      "metadata": {
        "id": "dP78R3OwE4ai"
      },
      "outputs": [],
      "source": [
        "# Apply preprocessing\n",
        "data['Reviews'] = data['Reviews'].apply(preprocess_text)"
      ]
    },
    {
      "cell_type": "code",
      "execution_count": null,
      "metadata": {
        "colab": {
          "base_uri": "https://localhost:8080/",
          "height": 573
        },
        "id": "X2qy-_uoCMOZ",
        "outputId": "6049b74b-4e02-4f6b-e843-554539983434"
      },
      "outputs": [
        {
          "output_type": "execute_result",
          "data": {
            "text/plain": [
              "                                             address item_id  \\\n",
              "1  Jl. Sibola Hotang, Sibola Hotangsas, Kec. Bali...       0   \n",
              "3  Jl. Sibola Hotang, Sibola Hotangsas, Kec. Bali...       0   \n",
              "4  Jl. Sibola Hotang, Sibola Hotangsas, Kec. Bali...       0   \n",
              "6  Jl. Sibola Hotang, Sibola Hotangsas, Kec. Bali...       0   \n",
              "8  Jl. Sibola Hotang, Sibola Hotangsas, Kec. Bali...       0   \n",
              "\n",
              "          Nama_tempat_wisata       Category      user_id  rating  \\\n",
              "1  PASIR PUTIH LUMBAN BULBUL  Wisata Bahari  1.11909e+20     5.0   \n",
              "3  PASIR PUTIH LUMBAN BULBUL  Wisata Bahari  1.13072e+20     5.0   \n",
              "4  PASIR PUTIH LUMBAN BULBUL  Wisata Bahari  1.06173e+20     5.0   \n",
              "6  PASIR PUTIH LUMBAN BULBUL  Wisata Bahari  1.14239e+20     5.0   \n",
              "8  PASIR PUTIH LUMBAN BULBUL  Wisata Bahari  1.04743e+20     3.0   \n",
              "\n",
              "                                             Reviews  \n",
              "1                                              bagus  \n",
              "3                                        menyenagkan  \n",
              "4                            bebas foto dimana aja k  \n",
              "6                              amazing pengen kesini  \n",
              "8  jalan lokasi diperhatikan pengembang minimal s...  "
            ],
            "text/html": [
              "\n",
              "  <div id=\"df-50241dc3-df4e-4f2e-ae84-8819d1a4e056\" class=\"colab-df-container\">\n",
              "    <div>\n",
              "<style scoped>\n",
              "    .dataframe tbody tr th:only-of-type {\n",
              "        vertical-align: middle;\n",
              "    }\n",
              "\n",
              "    .dataframe tbody tr th {\n",
              "        vertical-align: top;\n",
              "    }\n",
              "\n",
              "    .dataframe thead th {\n",
              "        text-align: right;\n",
              "    }\n",
              "</style>\n",
              "<table border=\"1\" class=\"dataframe\">\n",
              "  <thead>\n",
              "    <tr style=\"text-align: right;\">\n",
              "      <th></th>\n",
              "      <th>address</th>\n",
              "      <th>item_id</th>\n",
              "      <th>Nama_tempat_wisata</th>\n",
              "      <th>Category</th>\n",
              "      <th>user_id</th>\n",
              "      <th>rating</th>\n",
              "      <th>Reviews</th>\n",
              "    </tr>\n",
              "  </thead>\n",
              "  <tbody>\n",
              "    <tr>\n",
              "      <th>1</th>\n",
              "      <td>Jl. Sibola Hotang, Sibola Hotangsas, Kec. Bali...</td>\n",
              "      <td>0</td>\n",
              "      <td>PASIR PUTIH LUMBAN BULBUL</td>\n",
              "      <td>Wisata Bahari</td>\n",
              "      <td>1.11909e+20</td>\n",
              "      <td>5.0</td>\n",
              "      <td>bagus</td>\n",
              "    </tr>\n",
              "    <tr>\n",
              "      <th>3</th>\n",
              "      <td>Jl. Sibola Hotang, Sibola Hotangsas, Kec. Bali...</td>\n",
              "      <td>0</td>\n",
              "      <td>PASIR PUTIH LUMBAN BULBUL</td>\n",
              "      <td>Wisata Bahari</td>\n",
              "      <td>1.13072e+20</td>\n",
              "      <td>5.0</td>\n",
              "      <td>menyenagkan</td>\n",
              "    </tr>\n",
              "    <tr>\n",
              "      <th>4</th>\n",
              "      <td>Jl. Sibola Hotang, Sibola Hotangsas, Kec. Bali...</td>\n",
              "      <td>0</td>\n",
              "      <td>PASIR PUTIH LUMBAN BULBUL</td>\n",
              "      <td>Wisata Bahari</td>\n",
              "      <td>1.06173e+20</td>\n",
              "      <td>5.0</td>\n",
              "      <td>bebas foto dimana aja k</td>\n",
              "    </tr>\n",
              "    <tr>\n",
              "      <th>6</th>\n",
              "      <td>Jl. Sibola Hotang, Sibola Hotangsas, Kec. Bali...</td>\n",
              "      <td>0</td>\n",
              "      <td>PASIR PUTIH LUMBAN BULBUL</td>\n",
              "      <td>Wisata Bahari</td>\n",
              "      <td>1.14239e+20</td>\n",
              "      <td>5.0</td>\n",
              "      <td>amazing pengen kesini</td>\n",
              "    </tr>\n",
              "    <tr>\n",
              "      <th>8</th>\n",
              "      <td>Jl. Sibola Hotang, Sibola Hotangsas, Kec. Bali...</td>\n",
              "      <td>0</td>\n",
              "      <td>PASIR PUTIH LUMBAN BULBUL</td>\n",
              "      <td>Wisata Bahari</td>\n",
              "      <td>1.04743e+20</td>\n",
              "      <td>3.0</td>\n",
              "      <td>jalan lokasi diperhatikan pengembang minimal s...</td>\n",
              "    </tr>\n",
              "  </tbody>\n",
              "</table>\n",
              "</div>\n",
              "    <div class=\"colab-df-buttons\">\n",
              "\n",
              "  <div class=\"colab-df-container\">\n",
              "    <button class=\"colab-df-convert\" onclick=\"convertToInteractive('df-50241dc3-df4e-4f2e-ae84-8819d1a4e056')\"\n",
              "            title=\"Convert this dataframe to an interactive table.\"\n",
              "            style=\"display:none;\">\n",
              "\n",
              "  <svg xmlns=\"http://www.w3.org/2000/svg\" height=\"24px\" viewBox=\"0 -960 960 960\">\n",
              "    <path d=\"M120-120v-720h720v720H120Zm60-500h600v-160H180v160Zm220 220h160v-160H400v160Zm0 220h160v-160H400v160ZM180-400h160v-160H180v160Zm440 0h160v-160H620v160ZM180-180h160v-160H180v160Zm440 0h160v-160H620v160Z\"/>\n",
              "  </svg>\n",
              "    </button>\n",
              "\n",
              "  <style>\n",
              "    .colab-df-container {\n",
              "      display:flex;\n",
              "      gap: 12px;\n",
              "    }\n",
              "\n",
              "    .colab-df-convert {\n",
              "      background-color: #E8F0FE;\n",
              "      border: none;\n",
              "      border-radius: 50%;\n",
              "      cursor: pointer;\n",
              "      display: none;\n",
              "      fill: #1967D2;\n",
              "      height: 32px;\n",
              "      padding: 0 0 0 0;\n",
              "      width: 32px;\n",
              "    }\n",
              "\n",
              "    .colab-df-convert:hover {\n",
              "      background-color: #E2EBFA;\n",
              "      box-shadow: 0px 1px 2px rgba(60, 64, 67, 0.3), 0px 1px 3px 1px rgba(60, 64, 67, 0.15);\n",
              "      fill: #174EA6;\n",
              "    }\n",
              "\n",
              "    .colab-df-buttons div {\n",
              "      margin-bottom: 4px;\n",
              "    }\n",
              "\n",
              "    [theme=dark] .colab-df-convert {\n",
              "      background-color: #3B4455;\n",
              "      fill: #D2E3FC;\n",
              "    }\n",
              "\n",
              "    [theme=dark] .colab-df-convert:hover {\n",
              "      background-color: #434B5C;\n",
              "      box-shadow: 0px 1px 3px 1px rgba(0, 0, 0, 0.15);\n",
              "      filter: drop-shadow(0px 1px 2px rgba(0, 0, 0, 0.3));\n",
              "      fill: #FFFFFF;\n",
              "    }\n",
              "  </style>\n",
              "\n",
              "    <script>\n",
              "      const buttonEl =\n",
              "        document.querySelector('#df-50241dc3-df4e-4f2e-ae84-8819d1a4e056 button.colab-df-convert');\n",
              "      buttonEl.style.display =\n",
              "        google.colab.kernel.accessAllowed ? 'block' : 'none';\n",
              "\n",
              "      async function convertToInteractive(key) {\n",
              "        const element = document.querySelector('#df-50241dc3-df4e-4f2e-ae84-8819d1a4e056');\n",
              "        const dataTable =\n",
              "          await google.colab.kernel.invokeFunction('convertToInteractive',\n",
              "                                                    [key], {});\n",
              "        if (!dataTable) return;\n",
              "\n",
              "        const docLinkHtml = 'Like what you see? Visit the ' +\n",
              "          '<a target=\"_blank\" href=https://colab.research.google.com/notebooks/data_table.ipynb>data table notebook</a>'\n",
              "          + ' to learn more about interactive tables.';\n",
              "        element.innerHTML = '';\n",
              "        dataTable['output_type'] = 'display_data';\n",
              "        await google.colab.output.renderOutput(dataTable, element);\n",
              "        const docLink = document.createElement('div');\n",
              "        docLink.innerHTML = docLinkHtml;\n",
              "        element.appendChild(docLink);\n",
              "      }\n",
              "    </script>\n",
              "  </div>\n",
              "\n",
              "\n",
              "<div id=\"df-6ee842e8-20a4-486d-9152-535717f41010\">\n",
              "  <button class=\"colab-df-quickchart\" onclick=\"quickchart('df-6ee842e8-20a4-486d-9152-535717f41010')\"\n",
              "            title=\"Suggest charts\"\n",
              "            style=\"display:none;\">\n",
              "\n",
              "<svg xmlns=\"http://www.w3.org/2000/svg\" height=\"24px\"viewBox=\"0 0 24 24\"\n",
              "     width=\"24px\">\n",
              "    <g>\n",
              "        <path d=\"M19 3H5c-1.1 0-2 .9-2 2v14c0 1.1.9 2 2 2h14c1.1 0 2-.9 2-2V5c0-1.1-.9-2-2-2zM9 17H7v-7h2v7zm4 0h-2V7h2v10zm4 0h-2v-4h2v4z\"/>\n",
              "    </g>\n",
              "</svg>\n",
              "  </button>\n",
              "\n",
              "<style>\n",
              "  .colab-df-quickchart {\n",
              "      --bg-color: #E8F0FE;\n",
              "      --fill-color: #1967D2;\n",
              "      --hover-bg-color: #E2EBFA;\n",
              "      --hover-fill-color: #174EA6;\n",
              "      --disabled-fill-color: #AAA;\n",
              "      --disabled-bg-color: #DDD;\n",
              "  }\n",
              "\n",
              "  [theme=dark] .colab-df-quickchart {\n",
              "      --bg-color: #3B4455;\n",
              "      --fill-color: #D2E3FC;\n",
              "      --hover-bg-color: #434B5C;\n",
              "      --hover-fill-color: #FFFFFF;\n",
              "      --disabled-bg-color: #3B4455;\n",
              "      --disabled-fill-color: #666;\n",
              "  }\n",
              "\n",
              "  .colab-df-quickchart {\n",
              "    background-color: var(--bg-color);\n",
              "    border: none;\n",
              "    border-radius: 50%;\n",
              "    cursor: pointer;\n",
              "    display: none;\n",
              "    fill: var(--fill-color);\n",
              "    height: 32px;\n",
              "    padding: 0;\n",
              "    width: 32px;\n",
              "  }\n",
              "\n",
              "  .colab-df-quickchart:hover {\n",
              "    background-color: var(--hover-bg-color);\n",
              "    box-shadow: 0 1px 2px rgba(60, 64, 67, 0.3), 0 1px 3px 1px rgba(60, 64, 67, 0.15);\n",
              "    fill: var(--button-hover-fill-color);\n",
              "  }\n",
              "\n",
              "  .colab-df-quickchart-complete:disabled,\n",
              "  .colab-df-quickchart-complete:disabled:hover {\n",
              "    background-color: var(--disabled-bg-color);\n",
              "    fill: var(--disabled-fill-color);\n",
              "    box-shadow: none;\n",
              "  }\n",
              "\n",
              "  .colab-df-spinner {\n",
              "    border: 2px solid var(--fill-color);\n",
              "    border-color: transparent;\n",
              "    border-bottom-color: var(--fill-color);\n",
              "    animation:\n",
              "      spin 1s steps(1) infinite;\n",
              "  }\n",
              "\n",
              "  @keyframes spin {\n",
              "    0% {\n",
              "      border-color: transparent;\n",
              "      border-bottom-color: var(--fill-color);\n",
              "      border-left-color: var(--fill-color);\n",
              "    }\n",
              "    20% {\n",
              "      border-color: transparent;\n",
              "      border-left-color: var(--fill-color);\n",
              "      border-top-color: var(--fill-color);\n",
              "    }\n",
              "    30% {\n",
              "      border-color: transparent;\n",
              "      border-left-color: var(--fill-color);\n",
              "      border-top-color: var(--fill-color);\n",
              "      border-right-color: var(--fill-color);\n",
              "    }\n",
              "    40% {\n",
              "      border-color: transparent;\n",
              "      border-right-color: var(--fill-color);\n",
              "      border-top-color: var(--fill-color);\n",
              "    }\n",
              "    60% {\n",
              "      border-color: transparent;\n",
              "      border-right-color: var(--fill-color);\n",
              "    }\n",
              "    80% {\n",
              "      border-color: transparent;\n",
              "      border-right-color: var(--fill-color);\n",
              "      border-bottom-color: var(--fill-color);\n",
              "    }\n",
              "    90% {\n",
              "      border-color: transparent;\n",
              "      border-bottom-color: var(--fill-color);\n",
              "    }\n",
              "  }\n",
              "</style>\n",
              "\n",
              "  <script>\n",
              "    async function quickchart(key) {\n",
              "      const quickchartButtonEl =\n",
              "        document.querySelector('#' + key + ' button');\n",
              "      quickchartButtonEl.disabled = true;  // To prevent multiple clicks.\n",
              "      quickchartButtonEl.classList.add('colab-df-spinner');\n",
              "      try {\n",
              "        const charts = await google.colab.kernel.invokeFunction(\n",
              "            'suggestCharts', [key], {});\n",
              "      } catch (error) {\n",
              "        console.error('Error during call to suggestCharts:', error);\n",
              "      }\n",
              "      quickchartButtonEl.classList.remove('colab-df-spinner');\n",
              "      quickchartButtonEl.classList.add('colab-df-quickchart-complete');\n",
              "    }\n",
              "    (() => {\n",
              "      let quickchartButtonEl =\n",
              "        document.querySelector('#df-6ee842e8-20a4-486d-9152-535717f41010 button');\n",
              "      quickchartButtonEl.style.display =\n",
              "        google.colab.kernel.accessAllowed ? 'block' : 'none';\n",
              "    })();\n",
              "  </script>\n",
              "</div>\n",
              "\n",
              "    </div>\n",
              "  </div>\n"
            ],
            "application/vnd.google.colaboratory.intrinsic+json": {
              "type": "dataframe",
              "variable_name": "data",
              "summary": "{\n  \"name\": \"data\",\n  \"rows\": 22166,\n  \"fields\": [\n    {\n      \"column\": \"address\",\n      \"properties\": {\n        \"dtype\": \"category\",\n        \"num_unique_values\": 99,\n        \"samples\": [\n          \"MW8G+6H3, Pantai Bebas Parapat, Girsang Simpanganbolon, Tiga Raja, Kec. Girsang Sipangan Bolon, Kabupaten Simalungun, Sumatera Utara 21174, Indonesia\",\n          \"73JJ+9Q9, Siboruon, Kec. Balige, Toba, Sumatera Utara 22312, Indonesia\",\n          \"Turpuk Sihotang, Kec. Harian, Kabupaten Samosir, Sumatera Utara 22396, Indonesia\"\n        ],\n        \"semantic_type\": \"\",\n        \"description\": \"\"\n      }\n    },\n    {\n      \"column\": \"item_id\",\n      \"properties\": {\n        \"dtype\": \"category\",\n        \"num_unique_values\": 101,\n        \"samples\": [\n          \"85\",\n          \"56\",\n          \"67\"\n        ],\n        \"semantic_type\": \"\",\n        \"description\": \"\"\n      }\n    },\n    {\n      \"column\": \"Nama_tempat_wisata\",\n      \"properties\": {\n        \"dtype\": \"category\",\n        \"num_unique_values\": 101,\n        \"samples\": [\n          \"Taman Bunga Sapo Juma\",\n          \"Batu Gantung\",\n          \"Pantai Indah Situngkir (PIS)\"\n        ],\n        \"semantic_type\": \"\",\n        \"description\": \"\"\n      }\n    },\n    {\n      \"column\": \"Category\",\n      \"properties\": {\n        \"dtype\": \"category\",\n        \"num_unique_values\": 8,\n        \"samples\": [\n          \"Wisata Rohani\",\n          \"Wisata Sejarah\",\n          \"Wisata Bahari\"\n        ],\n        \"semantic_type\": \"\",\n        \"description\": \"\"\n      }\n    },\n    {\n      \"column\": \"user_id\",\n      \"properties\": {\n        \"dtype\": \"category\",\n        \"num_unique_values\": 10735,\n        \"samples\": [\n          \"1.09283e+20\",\n          \"1.04841e+20\",\n          \"1.09077e+20\"\n        ],\n        \"semantic_type\": \"\",\n        \"description\": \"\"\n      }\n    },\n    {\n      \"column\": \"rating\",\n      \"properties\": {\n        \"dtype\": \"number\",\n        \"std\": 0.8613084707095227,\n        \"min\": 1.0,\n        \"max\": 5.0,\n        \"num_unique_values\": 5,\n        \"samples\": [\n          3.0,\n          2.0,\n          4.0\n        ],\n        \"semantic_type\": \"\",\n        \"description\": \"\"\n      }\n    },\n    {\n      \"column\": \"Reviews\",\n      \"properties\": {\n        \"dtype\": \"string\",\n        \"num_unique_values\": 17014,\n        \"samples\": [\n          \"beutiful geositebest angle to view the magnificient lake toba from the heightaround minutes from silangit airports km m from sea level oc diterjemahkan google geosite indahsudut terbaik keindahan danau toba ketinggiansekitar menit bandara silangit km m permukaan laut oc\",\n          \"pemandangan berkesan\",\n          \"okay sampe sih blm biaya retribusi biaya parkir seikhlasnya low budget with good view great\"\n        ],\n        \"semantic_type\": \"\",\n        \"description\": \"\"\n      }\n    }\n  ]\n}"
            }
          },
          "metadata": {},
          "execution_count": 51
        }
      ],
      "source": [
        "data.head()"
      ]
    },
    {
      "cell_type": "markdown",
      "metadata": {
        "id": "W7VYb2MM1BBp"
      },
      "source": [
        "# 2. Label Encoding\n"
      ]
    },
    {
      "cell_type": "markdown",
      "metadata": {
        "id": "3itSb78Ypv6p"
      },
      "source": [
        "mengubah kolom Rating menjadi label sentimen (positif, netral, negatif) berdasarkan skala rating. LabelEncoder digunakan untuk mengonversi label sentimen menjadi angka, dan to_categorical mengubah label tersebut menjadi representasi one-hot untuk digunakan dalam pelatihan model."
      ]
    },
    {
      "cell_type": "code",
      "execution_count": null,
      "metadata": {
        "id": "zsxVo__L1EOE"
      },
      "outputs": [],
      "source": [
        "# Label encoding for sentiment (you might need to manually classify the sentiment)\n",
        "data['Sentiment'] = data['rating'].apply(lambda x: 'positive' if x >= 4 else ('neutral' if x == 3 else 'negative'))\n",
        "label_encoder = LabelEncoder()\n",
        "data['Sentiment'] = label_encoder.fit_transform(data['Sentiment'])"
      ]
    },
    {
      "cell_type": "code",
      "source": [
        "y = to_categorical(data['Sentiment'])"
      ],
      "metadata": {
        "id": "L6d9_SXanfRY"
      },
      "execution_count": null,
      "outputs": []
    },
    {
      "cell_type": "markdown",
      "metadata": {
        "id": "RZU9ZOVS2Qxu"
      },
      "source": [
        "# 3. Tokenization and Padding"
      ]
    },
    {
      "cell_type": "markdown",
      "metadata": {
        "id": "9pQjIxhgp1kF"
      },
      "source": [
        "menggunakan Tokenizer untuk mengubah teks menjadi urutan angka, di mana setiap angka merepresentasikan kata. Data kemudian diubah menjadi urutan dengan panjang yang seragam menggunakan pad_sequences agar dapat diproses oleh CNN."
      ]
    },
    {
      "cell_type": "code",
      "execution_count": null,
      "metadata": {
        "id": "93Bpf7no1GlB"
      },
      "outputs": [],
      "source": [
        "# Tokenize text\n",
        "max_words = 5000\n",
        "max_len = 100\n",
        "\n",
        "tokenizer = Tokenizer(num_words=max_words, oov_token='<OOV>')\n",
        "tokenizer.fit_on_texts(data['Reviews'])\n",
        "sequences = tokenizer.texts_to_sequences(data['Reviews'])\n",
        "padded_sequences = pad_sequences(sequences, maxlen=max_len, padding='post')"
      ]
    },
    {
      "cell_type": "markdown",
      "metadata": {
        "id": "ekeHM1AO2YP-"
      },
      "source": [
        "# 4. Split Data"
      ]
    },
    {
      "cell_type": "markdown",
      "metadata": {
        "id": "QLeGqMFZp5fW"
      },
      "source": [
        "membagi data ke dalam set pelatihan (80%) dan set pengujian (20%) untuk memastikan model diuji dengan data yang tidak terlihat selama pelatihan."
      ]
    },
    {
      "cell_type": "code",
      "execution_count": null,
      "metadata": {
        "id": "WWxrcNDU1I-c"
      },
      "outputs": [],
      "source": [
        "# Split the data into training (70%), validation (15%), and testing (15%)\n",
        "X_train_val, X_test, y_train_val, y_test = train_test_split(padded_sequences, y, test_size=0.15, random_state=42)\n",
        "X_train, X_val, y_train, y_val = train_test_split(X_train_val, y_train_val, test_size=0.176, random_state=42)  # 15% of total data\n"
      ]
    },
    {
      "cell_type": "markdown",
      "source": [
        "## 2. Implementasi Baseline Model"
      ],
      "metadata": {
        "id": "sAINrTDrnvgk"
      }
    },
    {
      "cell_type": "code",
      "execution_count": null,
      "metadata": {
        "id": "mUcI2hKK-EqK"
      },
      "outputs": [],
      "source": [
        "from keras.models import Sequential\n",
        "from keras.layers import Embedding, Conv1D, GlobalMaxPooling1D, Dense, Dropout\n",
        "from tensorflow.keras.optimizers import Adam\n",
        "from sklearn.metrics import precision_recall_fscore_support, mean_squared_error, mean_absolute_error\n",
        "import matplotlib.pyplot as plt\n",
        "\n",
        "# 2. Define the CNN model\n",
        "def build_cnn_model(filters, kernel_size, embedding_dim, dropout_rate, learning_rate, input_dim, input_length, output_dim):\n",
        "    model = Sequential()\n",
        "    model.add(Embedding(input_dim=input_dim, output_dim=embedding_dim, input_length=input_length))\n",
        "    model.add(Conv1D(filters=filters, kernel_size=kernel_size, activation='relu'))\n",
        "    model.add(GlobalMaxPooling1D())\n",
        "    model.add(Dense(64, activation='relu'))\n",
        "    model.add(Dropout(dropout_rate))\n",
        "    model.add(Dense(output_dim, activation='softmax'))\n",
        "    optimizer = Adam(learning_rate=learning_rate)\n",
        "    model.compile(optimizer=optimizer, loss='categorical_crossentropy', metrics=['accuracy'])\n",
        "    return model"
      ]
    },
    {
      "cell_type": "code",
      "execution_count": null,
      "metadata": {
        "colab": {
          "base_uri": "https://localhost:8080/"
        },
        "id": "s7-RKrAN-GNJ",
        "outputId": "394debdc-1e2b-4796-cf76-08bace489989"
      },
      "outputs": [
        {
          "output_type": "stream",
          "name": "stdout",
          "text": [
            "Training with parameters: {'filters': 128, 'kernel_size': 5, 'embedding_dim': 64, 'dropout_rate': 0.5, 'learning_rate': 0.0005}\n"
          ]
        }
      ],
      "source": [
        "# Define hyperparameter grid\n",
        "params = {\n",
        "    'filters': 128,\n",
        "    'kernel_size': 5,\n",
        "    'embedding_dim': 64,\n",
        "    'dropout_rate': 0.5,\n",
        "    'learning_rate': 0.0005,\n",
        "}\n",
        "\n",
        "print(f\"Training with parameters: {params}\")\n"
      ]
    },
    {
      "cell_type": "code",
      "source": [
        "# 4. Build the model\n",
        "cnn_model = build_cnn_model(\n",
        "    filters=params['filters'],\n",
        "    kernel_size=params['kernel_size'],\n",
        "    embedding_dim=params['embedding_dim'],\n",
        "    dropout_rate=params['dropout_rate'],\n",
        "    learning_rate=params['learning_rate'],\n",
        "    input_dim=max_words,\n",
        "    input_length=max_len,\n",
        "    output_dim=y_train.shape[1]  # Number of classes\n",
        ")"
      ],
      "metadata": {
        "colab": {
          "base_uri": "https://localhost:8080/"
        },
        "id": "jdVbZKj1oie7",
        "outputId": "66b1495a-1fd7-4770-c46b-28c2c2681b0d"
      },
      "execution_count": null,
      "outputs": [
        {
          "output_type": "stream",
          "name": "stderr",
          "text": [
            "/usr/local/lib/python3.10/dist-packages/keras/src/layers/core/embedding.py:90: UserWarning: Argument `input_length` is deprecated. Just remove it.\n",
            "  warnings.warn(\n"
          ]
        }
      ]
    },
    {
      "cell_type": "markdown",
      "metadata": {
        "id": "Bi861ed2FbYz"
      },
      "source": [
        "# 5. Model CNN"
      ]
    },
    {
      "cell_type": "code",
      "source": [
        "from keras.models import Sequential\n",
        "from keras.layers import Dense, Embedding, Conv1D, GlobalMaxPooling1D, Dropout\n",
        "from tensorflow.keras.optimizers import Adam\n",
        "from keras.callbacks import EarlyStopping\n",
        "from sklearn.metrics import mean_squared_error, mean_absolute_error\n",
        "import numpy as np\n",
        "import matplotlib.pyplot as plt\n",
        "\n",
        "# Definisi Early Stopping\n",
        "early_stopping = EarlyStopping(\n",
        "    monitor='val_loss',\n",
        "    patience=2,\n",
        "    restore_best_weights=True,\n",
        "    verbose=1\n",
        ")\n",
        "\n",
        "# Model CNN\n",
        "model = Sequential()\n",
        "model.add(Embedding(input_dim=max_words, output_dim=128, input_length=max_len))\n",
        "model.add(Conv1D(filters=128, kernel_size=5, activation='relu'))\n",
        "model.add(GlobalMaxPooling1D())\n",
        "model.add(Dense(64, activation='relu'))\n",
        "model.add(Dropout(0.5))\n",
        "model.add(Dense(3, activation='softmax'))\n",
        "\n",
        "# Compile model\n",
        "model.compile(optimizer=Adam(learning_rate=0.005), loss='categorical_crossentropy', metrics=['accuracy'])\n",
        "\n",
        "# Hyperparameter Dictionary\n",
        "params = {\n",
        "    'epochs': 30,          # Tetapkan epoch yang cukup besar\n",
        "    'batch_size': 32       # Ukuran batch\n",
        "}\n",
        "\n",
        "# 1. Train the model with Early Stopping\n",
        "history = model.fit(\n",
        "    X_train, y_train,\n",
        "    epochs=params['epochs'],\n",
        "    batch_size=params['batch_size'],\n",
        "    validation_data=(X_val, y_val),\n",
        "    callbacks=[early_stopping],  # Early Stopping diterapkan\n",
        "    verbose=2\n",
        ")\n",
        "\n",
        "# 2. Evaluate on test data\n",
        "test_loss, test_accuracy = model.evaluate(X_test, y_test, verbose=0)\n",
        "print(f\"Test Loss: {test_loss:.2f}, Test Accuracy: {test_accuracy:.2f}\")\n",
        "\n",
        "# 3. Plot training and validation accuracy\n",
        "plt.plot(history.history['accuracy'], label='Train Accuracy')\n",
        "plt.plot(history.history['val_accuracy'], label='Validation Accuracy')\n",
        "plt.xlabel('Epochs')\n",
        "plt.ylabel('Accuracy')\n",
        "plt.legend()\n",
        "plt.title('Training and Validation Accuracy')\n",
        "plt.show()\n",
        "\n",
        "# 4. Evaluate Metrics (RMSE, MAE)\n",
        "y_test_pred_probs = model.predict(X_test)\n",
        "y_test_pred_classes = np.argmax(y_test_pred_probs, axis=1)\n",
        "y_test_true_classes = np.argmax(y_test, axis=1)\n",
        "\n",
        "rmse = np.sqrt(mean_squared_error(y_test_true_classes, y_test_pred_classes))\n",
        "mae = mean_absolute_error(y_test_true_classes, y_test_pred_classes)\n",
        "print(f\"RMSE: {rmse:.2f}, MAE: {mae:.2f}\")\n"
      ],
      "metadata": {
        "colab": {
          "base_uri": "https://localhost:8080/",
          "height": 692
        },
        "id": "XsMqKdceplgz",
        "outputId": "1662bfb8-690b-40c2-fc3e-b8886857dbc5"
      },
      "execution_count": null,
      "outputs": [
        {
          "output_type": "stream",
          "name": "stdout",
          "text": [
            "Epoch 1/30\n",
            "486/486 - 6s - 12ms/step - accuracy: 0.8820 - loss: 0.4323 - val_accuracy: 0.8912 - val_loss: 0.3625\n",
            "Epoch 2/30\n",
            "486/486 - 1s - 3ms/step - accuracy: 0.8840 - loss: 0.3609 - val_accuracy: 0.8912 - val_loss: 0.3705\n",
            "Epoch 3/30\n",
            "486/486 - 3s - 6ms/step - accuracy: 0.8878 - loss: 0.3161 - val_accuracy: 0.8906 - val_loss: 0.4332\n",
            "Epoch 3: early stopping\n",
            "Restoring model weights from the end of the best epoch: 1.\n",
            "Test Loss: 0.39, Test Accuracy: 0.89\n"
          ]
        },
        {
          "output_type": "display_data",
          "data": {
            "text/plain": [
              "<Figure size 640x480 with 1 Axes>"
            ],
            "image/png": "[encoded data removed]"
          },
          "metadata": {}
        },
        {
          "output_type": "stream",
          "name": "stdout",
          "text": [
            "\u001b[1m104/104\u001b[0m \u001b[32m━━━━━━━━━━━━━━━━━━━━\u001b[0m\u001b[37m\u001b[0m \u001b[1m1s\u001b[0m 4ms/step\n",
            "RMSE: 0.47, MAE: 0.15\n"
          ]
        }
      ]
    },
    {
      "cell_type": "markdown",
      "metadata": {
        "id": "72fV_2PmqCjj"
      },
      "source": [
        "mendefinisikan arsitektur CNN dengan Embedding layer untuk mengonversi kata ke vektor numerik, Conv1D untuk ekstraksi fitur, GlobalMaxPooling1D untuk pengurangan dimensi, dan Dense layer untuk klasifikasi. Model dikompilasi dengan adam optimizer dan dilatih menggunakan data training."
      ]
    },
    {
      "cell_type": "markdown",
      "metadata": {
        "id": "IoVEGYyx2ySR"
      },
      "source": [
        "# 6. Evaluasi"
      ]
    },
    {
      "cell_type": "markdown",
      "metadata": {
        "id": "0WhEn_bBqG2p"
      },
      "source": [
        "mengevaluasi performa model pada data pengujian dan menampilkan akurasi. Plot kurva akurasi ditampilkan untuk memantau kinerja model selama pelatihan dan validasi."
      ]
    },
    {
      "cell_type": "code",
      "execution_count": null,
      "metadata": {
        "colab": {
          "base_uri": "https://localhost:8080/"
        },
        "id": "aDLy6Df9Fxmr",
        "outputId": "05f1ea30-f854-4758-a264-dd1d65818b52"
      },
      "outputs": [
        {
          "output_type": "stream",
          "name": "stdout",
          "text": [
            "Test Accuracy: 0.89\n"
          ]
        }
      ],
      "source": [
        "# Evaluate on test data\n",
        "loss, accuracy = model.evaluate(X_test, y_test, verbose=0)\n",
        "print(f'Test Accuracy: {accuracy:.2f}')"
      ]
    },
    {
      "cell_type": "code",
      "execution_count": null,
      "metadata": {
        "colab": {
          "base_uri": "https://localhost:8080/",
          "height": 449
        },
        "id": "U6rNo4It1LEV",
        "outputId": "ab05d42d-4acd-4ea2-b2b8-6f6090713d64"
      },
      "outputs": [
        {
          "output_type": "display_data",
          "data": {
            "text/plain": [
              "<Figure size 640x480 with 1 Axes>"
            ],
            "image/png": "[encoded data removed]"
          },
          "metadata": {}
        }
      ],
      "source": [
        "# Plot training history\n",
        "plt.plot(history.history['accuracy'], label='Train Accuracy')\n",
        "plt.plot(history.history['val_accuracy'], label='Validation Accuracy')\n",
        "plt.xlabel('Epochs')\n",
        "plt.ylabel('Accuracy')\n",
        "plt.legend()\n",
        "plt.show()"
      ]
    },
    {
      "cell_type": "markdown",
      "metadata": {
        "id": "HgE4pfEFF4jI"
      },
      "source": [
        "#"
      ]
    },
    {
      "cell_type": "markdown",
      "metadata": {
        "id": "HJPPcVZaF4do"
      },
      "source": [
        "# 7. Prediksi Sentimen"
      ]
    },
    {
      "cell_type": "markdown",
      "metadata": {
        "id": "PfSRH2p1qL--"
      },
      "source": [
        "memprediksi sentimen dari data ulasan baru. Ulasan diubah menjadi urutan angka dan diproses ke dalam model untuk menghasilkan prediksi. Hasil prediksi dikonversi kembali ke label sentimen yang sesuai (positif, netral, negatif) dan dicetak bersama ulasan."
      ]
    },
    {
      "cell_type": "code",
      "execution_count": null,
      "metadata": {
        "colab": {
          "base_uri": "https://localhost:8080/"
        },
        "id": "P3OP7oKtGDLT",
        "outputId": "35464889-4841-40bf-daf2-c3f73db9cb94"
      },
      "outputs": [
        {
          "output_type": "stream",
          "name": "stdout",
          "text": [
            "\u001b[1m1/1\u001b[0m \u001b[32m━━━━━━━━━━━━━━━━━━━━\u001b[0m\u001b[37m\u001b[0m \u001b[1m0s\u001b[0m 380ms/step\n"
          ]
        }
      ],
      "source": [
        "# Predict sentiment on new data\n",
        "new_reviews = [\"Tempatnya sangat indah dan menyenangkan\", \"Kurang memuaskan, tidak sesuai ekspektasi\"]\n",
        "new_sequences = tokenizer.texts_to_sequences(new_reviews)\n",
        "new_padded = pad_sequences(new_sequences, maxlen=max_len, padding='post')\n",
        "predictions = model.predict(new_padded)\n",
        "predicted_classes = np.argmax(predictions, axis=1)"
      ]
    },
    {
      "cell_type": "code",
      "execution_count": null,
      "metadata": {
        "colab": {
          "base_uri": "https://localhost:8080/"
        },
        "id": "bAr6YwoDGIEo",
        "outputId": "3caa94bc-a75a-4886-a46f-00b88b7c7f49"
      },
      "outputs": [
        {
          "output_type": "stream",
          "name": "stdout",
          "text": [
            "Review: Tempatnya sangat indah dan menyenangkan -> Sentiment: positive\n",
            "Review: Kurang memuaskan, tidak sesuai ekspektasi -> Sentiment: positive\n"
          ]
        }
      ],
      "source": [
        "# Decode predicted classes\n",
        "predicted_sentiments = label_encoder.inverse_transform(predicted_classes)\n",
        "for review, sentiment in zip(new_reviews, predicted_sentiments):\n",
        "    print(f\"Review: {review} -> Sentiment: {sentiment}\")"
      ]
    },
    {
      "cell_type": "code",
      "execution_count": null,
      "metadata": {
        "colab": {
          "base_uri": "https://localhost:8080/"
        },
        "id": "ddTPMF-0q0Gk",
        "outputId": "b8a62ff0-ceb2-4c24-a2f8-0daabffb39c6"
      },
      "outputs": [
        {
          "output_type": "stream",
          "name": "stdout",
          "text": [
            "  Sentiment  Count\n",
            "0  positive      2\n"
          ]
        }
      ],
      "source": [
        "# Display the distribution of sentiment in a table format\n",
        "sentiment_counts = pd.Series(predicted_sentiments).value_counts().reset_index()\n",
        "sentiment_counts.columns = ['Sentiment', 'Count']\n",
        "print(sentiment_counts)"
      ]
    },
    {
      "cell_type": "markdown",
      "metadata": {
        "id": "olIcfaIq3uRw"
      },
      "source": [
        "RMSE & MAE"
      ]
    },
    {
      "cell_type": "code",
      "execution_count": null,
      "metadata": {
        "colab": {
          "base_uri": "https://localhost:8080/"
        },
        "id": "IwWXiUWWDch4",
        "outputId": "a62af785-b2bb-4423-922e-078ba8c29c85"
      },
      "outputs": [
        {
          "output_type": "stream",
          "name": "stdout",
          "text": [
            "Test Accuracy: 0.89\n",
            "\u001b[1m104/104\u001b[0m \u001b[32m━━━━━━━━━━━━━━━━━━━━\u001b[0m\u001b[37m\u001b[0m \u001b[1m0s\u001b[0m 1ms/step\n",
            "RMSE: 0.47\n",
            "MAE: 0.15\n",
            "Precision: 0.30\n",
            "Recall: 0.33\n",
            "MAP: 0.43\n"
          ]
        },
        {
          "output_type": "stream",
          "name": "stderr",
          "text": [
            "/usr/local/lib/python3.10/dist-packages/sklearn/metrics/_classification.py:1531: UndefinedMetricWarning: Precision is ill-defined and being set to 0.0 in labels with no predicted samples. Use `zero_division` parameter to control this behavior.\n",
            "  _warn_prf(average, modifier, f\"{metric.capitalize()} is\", len(result))\n"
          ]
        }
      ],
      "source": [
        "from sklearn.metrics import precision_recall_fscore_support, average_precision_score\n",
        "\n",
        "# Evaluate model on test data\n",
        "loss, accuracy = model.evaluate(X_test, y_test, verbose=0)\n",
        "print(f'Test Accuracy: {accuracy:.2f}')\n",
        "\n",
        "# RMSE and MAE\n",
        "y_pred_probs = model.predict(X_test)\n",
        "y_pred_classes = np.argmax(y_pred_probs, axis=1)\n",
        "y_true_classes = np.argmax(y_test, axis=1)\n",
        "\n",
        "rmse = np.sqrt(mean_squared_error(y_true_classes, y_pred_classes))\n",
        "mae = mean_absolute_error(y_true_classes, y_pred_classes)\n",
        "precision, recall, _, _ = precision_recall_fscore_support(y_true_classes, y_pred_classes, average='macro')\n",
        "map_score = average_precision_score(y_test, y_pred_probs, average=\"macro\")\n",
        "\n",
        "print(f\"RMSE: {rmse:.2f}\")\n",
        "print(f\"MAE: {mae:.2f}\")\n",
        "print(f\"Precision: {precision:.2f}\")\n",
        "print(f\"Recall: {recall:.2f}\")\n",
        "print(f\"MAP: {map_score:.2f}\")\n"
      ]
    },
    {
      "cell_type": "code",
      "execution_count": null,
      "metadata": {
        "colab": {
          "base_uri": "https://localhost:8080/"
        },
        "id": "iPb4HNGHD9Bw",
        "outputId": "1f512629-b24b-419d-b4a9-31d9558fe5af"
      },
      "outputs": [
        {
          "output_type": "stream",
          "name": "stdout",
          "text": [
            "\u001b[1m1/1\u001b[0m \u001b[32m━━━━━━━━━━━━━━━━━━━━\u001b[0m\u001b[37m\u001b[0m \u001b[1m0s\u001b[0m 46ms/step\n",
            "Review: Tempatnya sangat indah dan menyenangkan -> Sentiment: positive\n",
            "Review: Kurang memuaskan, tidak sesuai ekspektasi -> Sentiment: positive\n"
          ]
        }
      ],
      "source": [
        "# Predict sentiment on new reviews\n",
        "new_reviews = [\"Tempatnya sangat indah dan menyenangkan\", \"Kurang memuaskan, tidak sesuai ekspektasi\"]\n",
        "new_sequences = tokenizer.texts_to_sequences(new_reviews)\n",
        "new_padded = pad_sequences(new_sequences, maxlen=max_len, padding='post')\n",
        "predictions = model.predict(new_padded)\n",
        "predicted_classes = np.argmax(predictions, axis=1)\n",
        "\n",
        "# Decode predicted classes\n",
        "predicted_sentiments = label_encoder.inverse_transform(predicted_classes)\n",
        "for review, sentiment in zip(new_reviews, predicted_sentiments):\n",
        "    print(f\"Review: {review} -> Sentiment: {sentiment}\")\n"
      ]
    },
    {
      "cell_type": "code",
      "execution_count": null,
      "metadata": {
        "colab": {
          "base_uri": "https://localhost:8080/"
        },
        "id": "T8PzarMh3a1v",
        "outputId": "92c5e2de-11b0-4ff4-e367-7ec2eabde74d"
      },
      "outputs": [
        {
          "output_type": "stream",
          "name": "stdout",
          "text": [
            "\u001b[1m104/104\u001b[0m \u001b[32m━━━━━━━━━━━━━━━━━━━━\u001b[0m\u001b[37m\u001b[0m \u001b[1m0s\u001b[0m 2ms/step\n",
            "MAE: 0.15\n",
            "RMSE: 0.47\n"
          ]
        }
      ],
      "source": [
        "from sklearn.metrics import mean_squared_error, mean_absolute_error\n",
        "import numpy as np\n",
        "\n",
        "# Prediksi pada data testing\n",
        "y_pred_probs = model.predict(X_test)\n",
        "y_pred_classes = np.argmax(y_pred_probs, axis=1)\n",
        "y_true_classes = np.argmax(y_test, axis=1)\n",
        "\n",
        "# Menghitung MAE dan RMSE\n",
        "mae = mean_absolute_error(y_true_classes, y_pred_classes)\n",
        "rmse = np.sqrt(mean_squared_error(y_true_classes, y_pred_classes))\n",
        "\n",
        "print(f'MAE: {mae:.2f}')\n",
        "print(f'RMSE: {rmse:.2f}')"
      ]
    },
    {
      "cell_type": "markdown",
      "metadata": {
        "id": "FPX0FfGV3r3P"
      },
      "source": [
        "# Precision, Recall, dan MAP"
      ]
    },
    {
      "cell_type": "code",
      "execution_count": null,
      "metadata": {
        "colab": {
          "base_uri": "https://localhost:8080/"
        },
        "id": "w3hOCjI0GXuD",
        "outputId": "856df464-d77d-4730-a75c-97e417748468"
      },
      "outputs": [
        {
          "output_type": "stream",
          "name": "stdout",
          "text": [
            "Precision: 0.78\n",
            "Recall: 0.89\n",
            "MAP: 0.86\n"
          ]
        },
        {
          "output_type": "stream",
          "name": "stderr",
          "text": [
            "/usr/local/lib/python3.10/dist-packages/sklearn/metrics/_classification.py:1531: UndefinedMetricWarning: Precision is ill-defined and being set to 0.0 in labels with no predicted samples. Use `zero_division` parameter to control this behavior.\n",
            "  _warn_prf(average, modifier, f\"{metric.capitalize()} is\", len(result))\n"
          ]
        }
      ],
      "source": [
        "from sklearn.metrics import precision_score, recall_score, average_precision_score\n",
        "\n",
        "# Precision dan Recall\n",
        "precision = precision_score(y_true_classes, y_pred_classes, average='weighted')\n",
        "recall = recall_score(y_true_classes, y_pred_classes, average='weighted')\n",
        "\n",
        "# Mean Average Precision (MAP)\n",
        "map_score = average_precision_score(y_test, y_pred_probs, average='weighted')\n",
        "\n",
        "print(f'Precision: {precision:.2f}')\n",
        "print(f'Recall: {recall:.2f}')\n",
        "print(f'MAP: {map_score:.2f}')"
      ]
    },
    {
      "cell_type": "code",
      "source": [
        "def get_user_recommendations(user_review, model, tokenizer, max_len, top_k=5):\n",
        "    # Preprocess user review (tokenisasi dan padding)\n",
        "    review_sequence = tokenizer.texts_to_sequences([user_review])\n",
        "    review_padded = pad_sequences(review_sequence, maxlen=max_len, padding='post')\n",
        "\n",
        "    # Prediksi probabilitas untuk review pengguna\n",
        "    pred_probs = model.predict(review_padded)\n",
        "\n",
        "    # Tentukan top_k berdasarkan jumlah kelas yang ada (mencegah index out of range)\n",
        "    num_classes = pred_probs.shape[1]\n",
        "    top_k = min(top_k, num_classes)  # Pastikan top_k tidak lebih besar dari jumlah kelas\n",
        "\n",
        "    # Ambil kelas dengan probabilitas tertinggi\n",
        "    top_k_indices = np.argsort(pred_probs, axis=1)[:, -top_k:]  # Top-k prediksi\n",
        "    top_k_probabilities = np.sort(pred_probs, axis=1)[:, -top_k:]  # Probabilitas top-k\n",
        "\n",
        "    # Tampilkan top-k rekomendasi\n",
        "    print(f\"Top-{top_k} Rekomendasi untuk Review:\")\n",
        "    for i in range(top_k):\n",
        "        print(f\"Kelas: {top_k_indices[0, i]}, Probabilitas: {top_k_probabilities[0, i]:.4f}\")\n",
        "\n",
        "    return top_k_indices[0]\n",
        "\n",
        "# 2. Ambil review pengguna dan lakukan rekomendasi\n",
        "user_review = \"Tempatnya sangat indah dan suasananya tenang\"  # Review dari pengguna\n",
        "top_k_recommendations = get_user_recommendations(user_review, model, tokenizer, max_len, top_k=5)\n",
        "\n",
        "# 3. Menampilkan rekomendasi berdasarkan hasil prediksi\n",
        "print(\"\\nRekomendasi untuk Pengguna:\")\n",
        "for idx in top_k_recommendations:\n",
        "    recommended_item = data.loc[data['item_id'] == str(idx)]  # Menampilkan tempat wisata berdasarkan ID item\n",
        "    print(f\"Rekomendasi Tempat: {recommended_item['item_id'].values[0]}, Sentimen Prediksi: {recommended_item['Sentiment'].values[0]}\")\n"
      ],
      "metadata": {
        "colab": {
          "base_uri": "https://localhost:8080/"
        },
        "id": "K9rhI7YiBab1",
        "outputId": "d2ee41f6-bfd6-488a-8f08-fd84d55df5a9"
      },
      "execution_count": null,
      "outputs": [
        {
          "output_type": "stream",
          "name": "stdout",
          "text": [
            "\u001b[1m1/1\u001b[0m \u001b[32m━━━━━━━━━━━━━━━━━━━━\u001b[0m\u001b[37m\u001b[0m \u001b[1m0s\u001b[0m 27ms/step\n",
            "Top-3 Rekomendasi untuk Review:\n",
            "Kelas: 0, Probabilitas: 0.0020\n",
            "Kelas: 1, Probabilitas: 0.0183\n",
            "Kelas: 2, Probabilitas: 0.9797\n",
            "\n",
            "Rekomendasi untuk Pengguna:\n",
            "Rekomendasi Tempat: 0, Sentimen Prediksi: 2\n",
            "Rekomendasi Tempat: 1, Sentimen Prediksi: 2\n",
            "Rekomendasi Tempat: 2, Sentimen Prediksi: 2\n"
          ]
        }
      ]
    },
    {
      "cell_type": "code",
      "execution_count": null,
      "metadata": {
        "id": "Jevf2MdkwiNP",
        "colab": {
          "base_uri": "https://localhost:8080/",
          "height": 446
        },
        "outputId": "810e6fce-685e-4722-b253-b8bbafb1d03c"
      },
      "outputs": [
        {
          "output_type": "display_data",
          "data": {
            "text/plain": [
              "<Figure size 1000x600 with 1 Axes>"
            ],
            "image/png": "[encoded data removed]"
          },
          "metadata": {}
        }
      ],
      "source": [
        "import matplotlib.pyplot as plt\n",
        "import numpy as np\n",
        "\n",
        "plt.plot(history.history['accuracy'], label='Train Accuracy')\n",
        "plt.plot(history.history['val_accuracy'], label='Validation Accuracy')\n",
        "# Plot RMSE dengan pola hanya (tanpa warna, untuk pembaca dengan buta warna)\n",
        "plt.figure(figsize=(10, 6))\n",
        "\n",
        "# Plot RMSE pelatihan dan validasi\n",
        "plt.plot(factors_range, train_errors, label=\"Training RMSE\", linestyle='-', marker='o', color='black')\n",
        "plt.plot(factors_range, val_errors, label=\"Validation RMSE\", linestyle='--', marker='x', color='black')\n",
        "\n",
        "# Tambahkan pola tanpa mengandalkan warna\n",
        "plt.fill_between(factors_range, train_errors, alpha=0.3, label=\"Training Area (pattern)\", facecolor='none', hatch='\\\\')\n",
        "plt.fill_between(factors_range, val_errors, alpha=0.3, label=\"Validation Area (pattern)\", facecolor='none', hatch='//')\n",
        "\n",
        "# Menambahkan judul, label sumbu, dan legend\n",
        "plt.title(\"Training vs Validation RMSE (Pattern Only)\")\n",
        "plt.xlabel(\"Number of Latent Factors\")\n",
        "plt.ylabel(\"RMSE\")\n",
        "plt.legend()\n",
        "plt.grid()\n",
        "\n",
        "# Menampilkan plot\n",
        "plt.show()\n"
      ]
    }
  ],
  "metadata": {
    "accelerator": "GPU",
    "colab": {
      "gpuType": "T4",
      "provenance": [],
      "include_colab_link": true
    },
    "kernelspec": {
      "display_name": "Python 3",
      "name": "python3"
    },
    "language_info": {
      "name": "python"
    }
  },
  "nbformat": 4,
  "nbformat_minor": 0
}